{
 "cells": [
  {
   "cell_type": "code",
   "execution_count": 1,
   "id": "d1e7bff8",
   "metadata": {},
   "outputs": [],
   "source": [
    "import numpy as np\n",
    "import cv2 as cv\n",
    "import os\n",
    "import matplotlib.pyplot as plt\n",
    "from sklearn.metrics.pairwise import euclidean_distances\n",
    "from scipy.spatial import distance_matrix\n",
    "import pandas as pd\n",
    "from sklearn.cluster import KMeans\n",
    "from sklearn.svm import SVC\n",
    "from sklearn.model_selection import KFold, train_test_split\n",
    "from sklearn.metrics import roc_curve, accuracy_score\n",
    "from sklearn.model_selection import RandomizedSearchCV\n",
    "from sklearn.neighbors import KNeighborsClassifier\n",
    "from sklearn import metrics\n",
    "from sklearn.model_selection import train_test_split\n",
    "from sklearn.preprocessing import MinMaxScaler\n",
    "from sklearn.neighbors import NearestNeighbors\n",
    "\n",
    "\n",
    "import tqdm\n",
    "from skimage.feature import hog\n",
    "from skimage import data, exposure\n",
    "\n",
    "from sklearn.preprocessing import StandardScaler\n",
    "from sklearn.ensemble import RandomForestClassifier, VotingClassifier\n",
    "from sklearn.ensemble import AdaBoostClassifier\n",
    "\n",
    "from sklearn import model_selection\n",
    "from sklearn.ensemble import BaggingClassifier\n",
    "from sklearn import tree\n",
    "\n",
    "from tools import *"
   ]
  },
  {
   "cell_type": "code",
   "execution_count": 2,
   "id": "81b65f89",
   "metadata": {},
   "outputs": [],
   "source": [
    "path = \"images-photographes\""
   ]
  },
  {
   "cell_type": "code",
   "execution_count": 3,
   "id": "b6686512",
   "metadata": {},
   "outputs": [],
   "source": [
    "inames, ilabels, class_names = load_dataset(path)"
   ]
  },
  {
   "cell_type": "code",
   "execution_count": 4,
   "id": "9ff44ed9",
   "metadata": {},
   "outputs": [
    {
     "data": {
      "text/plain": [
       "(['daido-moriyama\\\\16_daido_moriyama_24.jpg',\n",
       "  'daido-moriyama\\\\16_daido_moriyama_25.jpg',\n",
       "  'daido-moriyama\\\\16_daido_moriyama_26.jpg',\n",
       "  'daido-moriyama\\\\16_daido_moriyama_27.jpg',\n",
       "  'daido-moriyama\\\\21_moriyama_mep_050.jpg',\n",
       "  'daido-moriyama\\\\21_moriyama_mep_051.jpg',\n",
       "  'daido-moriyama\\\\21_moriyama_mep_059.jpg',\n",
       "  'daido-moriyama\\\\21_moriyama_mep_063.jpg',\n",
       "  'daido-moriyama\\\\21_moriyama_mep_064.jpg',\n",
       "  'daido-moriyama\\\\21_moriyama_mep_065.jpg',\n",
       "  'daido-moriyama\\\\21_moriyama_mep_066.jpg',\n",
       "  'daido-moriyama\\\\21_moriyama_mep_068.jpg',\n",
       "  'daido-moriyama\\\\21_moriyama_mep_073.jpg',\n",
       "  'daido-moriyama\\\\21_moriyama_mep_075.jpg',\n",
       "  'daido-moriyama\\\\21_moriyama_mep_077.jpg',\n",
       "  'daido-moriyama\\\\21_moriyama_mep_078.jpg',\n",
       "  'daido-moriyama\\\\21_moriyama_mep_079.jpg',\n",
       "  'daido-moriyama\\\\21_moriyama_mep_080.jpg',\n",
       "  'daido-moriyama\\\\21_moriyama_mep_081.jpg',\n",
       "  'daido-moriyama\\\\21_moriyama_mep_082.jpg',\n",
       "  'daido-moriyama\\\\21_moriyama_mep_083.jpg',\n",
       "  'daido-moriyama\\\\21_moriyama_mep_085.jpg',\n",
       "  'daido-moriyama\\\\21_moriyama_mep_087.jpg',\n",
       "  'daido-moriyama\\\\21_moriyama_mep_089.jpg',\n",
       "  'daido-moriyama\\\\21_moriyama_mep_090.jpg',\n",
       "  'daido-moriyama\\\\21_moriyama_mep_094.jpg',\n",
       "  'daido-moriyama\\\\21_moriyama_mep_096.jpg',\n",
       "  'daido-moriyama\\\\21_moriyama_mep_098.jpg',\n",
       "  'daido-moriyama\\\\21_moriyama_mep_099.jpg',\n",
       "  'daido-moriyama\\\\21_moriyama_mep_100.jpg',\n",
       "  'daido-moriyama\\\\21_moriyama_mep_103.jpg',\n",
       "  'daido-moriyama\\\\21_moriyama_mep_112.jpg',\n",
       "  'dorothea-lange\\\\18_lange_jeu-de-paume_1.jpg',\n",
       "  'dorothea-lange\\\\18_lange_jeu-de-paume_12.jpg',\n",
       "  'dorothea-lange\\\\18_lange_jeu-de-paume_14.jpg',\n",
       "  'dorothea-lange\\\\18_lange_jeu-de-paume_18.jpg',\n",
       "  'dorothea-lange\\\\18_lange_jeu-de-paume_20.jpg',\n",
       "  'dorothea-lange\\\\18_lange_jeu-de-paume_28.jpg',\n",
       "  'dorothea-lange\\\\18_lange_jeu-de-paume_3.jpg',\n",
       "  'dorothea-lange\\\\18_lange_jeu-de-paume_30.jpg',\n",
       "  'dorothea-lange\\\\18_lange_jeu-de-paume_32.jpg',\n",
       "  'dorothea-lange\\\\18_lange_jeu-de-paume_36.jpg',\n",
       "  'dorothea-lange\\\\18_lange_jeu-de-paume_40.jpg',\n",
       "  'dorothea-lange\\\\18_lange_jeu-de-paume_44.jpg',\n",
       "  'dorothea-lange\\\\18_lange_jeu-de-paume_46.jpg',\n",
       "  'dorothea-lange\\\\18_lange_jeu-de-paume_48.jpg',\n",
       "  'dorothea-lange\\\\18_lange_jeu-de-paume_5.jpg',\n",
       "  'dorothea-lange\\\\18_lange_jeu-de-paume_50.jpg',\n",
       "  'dorothea-lange\\\\18_lange_jeu-de-paume_52.jpg',\n",
       "  'dorothea-lange\\\\18_lange_jeu-de-paume_9.jpg',\n",
       "  'felix-nadar\\\\18_nadar_bnf_005.jpg',\n",
       "  'felix-nadar\\\\18_nadar_bnf_008.jpg',\n",
       "  'felix-nadar\\\\18_nadar_bnf_009.jpg',\n",
       "  'felix-nadar\\\\18_nadar_bnf_014.jpg',\n",
       "  'felix-nadar\\\\18_nadar_bnf_021.jpg',\n",
       "  'felix-nadar\\\\18_nadar_bnf_023.jpg',\n",
       "  'felix-nadar\\\\18_nadar_bnf_027.jpg',\n",
       "  'felix-nadar\\\\18_nadar_bnf_029.jpg',\n",
       "  'felix-nadar\\\\18_nadar_bnf_099.jpg',\n",
       "  'felix-nadar\\\\18_nadar_bnf_103.jpg',\n",
       "  'felix-nadar\\\\18_nadar_bnf_107.jpg',\n",
       "  'felix-nadar\\\\18_nadar_bnf_109.jpg',\n",
       "  'felix-nadar\\\\18_nadar_bnf_111.jpg',\n",
       "  'felix-nadar\\\\18_nadar_bnf_113.jpg',\n",
       "  'felix-nadar\\\\18_nadar_bnf_115.jpg',\n",
       "  'felix-nadar\\\\18_nadar_bnf_118.jpg',\n",
       "  'felix-nadar\\\\18_nadar_bnf_120.jpg',\n",
       "  'felix-nadar\\\\18_nadar_bnf_139.jpg',\n",
       "  'felix-nadar\\\\18_nadar_bnf_145.jpg',\n",
       "  'felix-nadar\\\\18_nadar_bnf_161.jpg',\n",
       "  'felix-nadar\\\\18_nadar_bnf_163.jpg',\n",
       "  'felix-nadar\\\\18_nadar_bnf_172.jpg',\n",
       "  'felix-nadar\\\\18_nadar_bnf_174.jpg',\n",
       "  'felix-nadar\\\\18_nadar_bnf_176.jpg',\n",
       "  'felix-nadar\\\\18_nadar_bnf_180.jpg',\n",
       "  'felix-nadar\\\\18_nadar_bnf_181.jpg',\n",
       "  'felix-nadar\\\\18_nadar_bnf_191.jpg',\n",
       "  'henri-cartier-bresson\\\\21-cartier-bresson_004_bnf_14.jpg',\n",
       "  'henri-cartier-bresson\\\\21-cartier-bresson_008_bnf_24.jpg',\n",
       "  'henri-cartier-bresson\\\\21-cartier-bresson_009_bnf_56.jpg',\n",
       "  'henri-cartier-bresson\\\\21-cartier-bresson_019_bnf_48.jpg',\n",
       "  'henri-cartier-bresson\\\\21-cartier-bresson_021_bnf_125.jpg',\n",
       "  'henri-cartier-bresson\\\\21-cartier-bresson_025_bnf_42.jpg',\n",
       "  'henri-cartier-bresson\\\\21-cartier-bresson_041_bnf_4.jpg',\n",
       "  'henri-cartier-bresson\\\\21-cartier-bresson_079_bnf_53.jpg',\n",
       "  'henri-cartier-bresson\\\\21-cartier-bresson_087_bnf_50.jpg',\n",
       "  'henri-cartier-bresson\\\\21-cartier-bresson_088_bnf_16.jpg',\n",
       "  'henri-cartier-bresson\\\\21-cartier-bresson_106_bnf_18.jpg',\n",
       "  'henri-cartier-bresson\\\\21-cartier-bresson_109_bnf_127.jpg',\n",
       "  'henri-cartier-bresson\\\\21-cartier-bresson_124_bnf_30.jpg',\n",
       "  'henri-cartier-bresson\\\\21-cartier-bresson_130_bnf_105.jpg',\n",
       "  'henri-cartier-bresson\\\\21-cartier-bresson_137_bnf_209.jpg',\n",
       "  'henri-cartier-bresson\\\\21-cartier-bresson_151_bnf_2.jpg',\n",
       "  'henri-cartier-bresson\\\\21-cartier-bresson_162_bnf_61.jpg',\n",
       "  'henri-cartier-bresson\\\\21-cartier-bresson_165_bnf_28.jpg',\n",
       "  'henri-cartier-bresson\\\\21-cartier-bresson_194_bnf_247.jpg',\n",
       "  'henri-cartier-bresson\\\\21-cartier-bresson_195_bnf_44.jpg',\n",
       "  'henri-cartier-bresson\\\\21-cartier-bresson_198_bnf_8.jpg',\n",
       "  'henri-cartier-bresson\\\\21-cartier-bresson_206_bnf_36.jpg',\n",
       "  'henri-cartier-bresson\\\\21-cartier-bresson_215_bnf_249.jpg',\n",
       "  'henri-cartier-bresson\\\\21-cartier-bresson_220_bnf_205.jpg',\n",
       "  'henri-cartier-bresson\\\\21-cartier-bresson_256_bnf_6.jpg',\n",
       "  'henri-cartier-bresson\\\\21-cartier-bresson_257_bnf_207.jpg',\n",
       "  'henri-cartier-bresson\\\\21-cartier-bresson_268_bnf_40.jpg',\n",
       "  'henri-cartier-bresson\\\\21-cartier-bresson_285_bnf_109.jpg',\n",
       "  'henri-cartier-bresson\\\\21-cartier-bresson_329_bnf_46.jpg',\n",
       "  'henri-cartier-bresson\\\\21-cartier-bresson_342_bnf_113.jpg',\n",
       "  'henri-cartier-bresson\\\\21-cartier-bresson_343_bnf_103.jpg',\n",
       "  'henri-cartier-bresson\\\\21-cartier-bresson_353_bnf_20.jpg',\n",
       "  'henri-cartier-bresson\\\\21-cartier-bresson_359_bnf_59.jpg',\n",
       "  'henri-cartier-bresson\\\\21-cartier-bresson_360_bnf_101.jpg',\n",
       "  'henri-cartier-bresson\\\\21-cartier-bresson_361_bnf_119.jpg',\n",
       "  'henri-cartier-bresson\\\\21-cartier-bresson_361_bnf_120.jpg',\n",
       "  'henri-cartier-bresson\\\\21-cartier-bresson_381_bnf_10.jpg',\n",
       "  'henri-cartier-bresson\\\\21-cartier-bresson_bnf_115.jpg',\n",
       "  'henri-cartier-bresson\\\\21-cartier-bresson_bnf_116.jpg',\n",
       "  'henri-cartier-bresson\\\\21-cartier-bresson_bnf_117.jpg',\n",
       "  'henri-cartier-bresson\\\\21-cartier-bresson_bnf_118.jpg',\n",
       "  'henri-cartier-bresson\\\\21-cartier-bresson_bnf_119.jpg',\n",
       "  'henri-cartier-bresson\\\\21-cartier-bresson_bnf_26.jpg',\n",
       "  'henri-cartier-bresson\\\\21-cartier-bresson_bnf_38.jpg',\n",
       "  'henri-cartier-bresson\\\\21-cartier-bresson_xxx_bnf_243.jpg',\n",
       "  'irving-penn\\\\17_irving_penn_1.jpg',\n",
       "  'irving-penn\\\\17_irving_penn_101.jpg',\n",
       "  'irving-penn\\\\17_irving_penn_103.jpg',\n",
       "  'irving-penn\\\\17_irving_penn_105.jpg',\n",
       "  'irving-penn\\\\17_irving_penn_15.jpg',\n",
       "  'irving-penn\\\\17_irving_penn_17.jpg',\n",
       "  'irving-penn\\\\17_irving_penn_19.jpg',\n",
       "  'irving-penn\\\\17_irving_penn_21.jpg',\n",
       "  'irving-penn\\\\17_irving_penn_23.jpg',\n",
       "  'irving-penn\\\\17_irving_penn_29.jpg',\n",
       "  'irving-penn\\\\17_irving_penn_31.jpg',\n",
       "  'irving-penn\\\\17_irving_penn_33.jpg',\n",
       "  'irving-penn\\\\17_irving_penn_35.jpg',\n",
       "  'irving-penn\\\\17_irving_penn_39.jpg',\n",
       "  'irving-penn\\\\17_irving_penn_41.jpg',\n",
       "  'irving-penn\\\\17_irving_penn_43.jpg',\n",
       "  'irving-penn\\\\17_irving_penn_45.jpg',\n",
       "  'irving-penn\\\\17_irving_penn_47.jpg',\n",
       "  'irving-penn\\\\17_irving_penn_49.jpg',\n",
       "  'irving-penn\\\\17_irving_penn_51.jpg',\n",
       "  'irving-penn\\\\17_irving_penn_53.jpg',\n",
       "  'irving-penn\\\\17_irving_penn_55.jpg',\n",
       "  'irving-penn\\\\17_irving_penn_57.jpg',\n",
       "  'irving-penn\\\\17_irving_penn_59.jpg',\n",
       "  'irving-penn\\\\17_irving_penn_61.jpg',\n",
       "  'irving-penn\\\\17_irving_penn_65.jpg',\n",
       "  'irving-penn\\\\17_irving_penn_68.jpg',\n",
       "  'irving-penn\\\\17_irving_penn_7.jpg',\n",
       "  'irving-penn\\\\17_irving_penn_70.jpg',\n",
       "  'irving-penn\\\\17_irving_penn_72.jpg',\n",
       "  'irving-penn\\\\17_irving_penn_74.jpg',\n",
       "  'irving-penn\\\\17_irving_penn_76.jpg',\n",
       "  'irving-penn\\\\17_irving_penn_78.jpg',\n",
       "  'irving-penn\\\\17_irving_penn_90.jpg',\n",
       "  'irving-penn\\\\17_irving_penn_92.jpg',\n",
       "  'irving-penn\\\\17_irving_penn_94.jpg',\n",
       "  'irving-penn\\\\17_irving_penn_96.jpg',\n",
       "  'irving-penn\\\\17_irving_penn_99.jpg',\n",
       "  'malik-sidibe\\\\18_sidibe_1.jpg',\n",
       "  'malik-sidibe\\\\18_sidibe_11.jpg',\n",
       "  'malik-sidibe\\\\18_sidibe_18.jpg',\n",
       "  'malik-sidibe\\\\18_sidibe_19.jpg',\n",
       "  'malik-sidibe\\\\18_sidibe_2.jpg',\n",
       "  'malik-sidibe\\\\18_sidibe_20.jpg',\n",
       "  'malik-sidibe\\\\18_sidibe_21.jpg',\n",
       "  'malik-sidibe\\\\18_sidibe_22.jpg',\n",
       "  'malik-sidibe\\\\18_sidibe_23.jpg',\n",
       "  'malik-sidibe\\\\18_sidibe_3.jpg',\n",
       "  'malik-sidibe\\\\18_sidibe_33.jpg',\n",
       "  'malik-sidibe\\\\18_sidibe_34.jpg',\n",
       "  'malik-sidibe\\\\18_sidibe_35.jpg',\n",
       "  'malik-sidibe\\\\18_sidibe_36.jpg',\n",
       "  'malik-sidibe\\\\18_sidibe_37.jpg',\n",
       "  'malik-sidibe\\\\18_sidibe_38.jpg',\n",
       "  'malik-sidibe\\\\18_sidibe_4.jpg',\n",
       "  'malik-sidibe\\\\18_sidibe_40.jpg',\n",
       "  'malik-sidibe\\\\18_sidibe_41.jpg',\n",
       "  'malik-sidibe\\\\18_sidibe_42.jpg',\n",
       "  'malik-sidibe\\\\18_sidibe_43.jpg',\n",
       "  'malik-sidibe\\\\18_sidibe_44.jpg',\n",
       "  'malik-sidibe\\\\18_sidibe_45.jpg',\n",
       "  'malik-sidibe\\\\18_sidibe_46.jpg',\n",
       "  'malik-sidibe\\\\18_sidibe_47.jpg',\n",
       "  'malik-sidibe\\\\18_sidibe_48.jpg',\n",
       "  'malik-sidibe\\\\18_sidibe_5.jpg',\n",
       "  'malik-sidibe\\\\18_sidibe_51.jpg',\n",
       "  'malik-sidibe\\\\18_sidibe_52.jpg',\n",
       "  'malik-sidibe\\\\18_sidibe_53.jpg',\n",
       "  'malik-sidibe\\\\18_sidibe_6.jpg',\n",
       "  'malik-sidibe\\\\18_sidibe_7.jpg',\n",
       "  'malik-sidibe\\\\18_sidibe_8.jpg',\n",
       "  'marc-riboud\\\\21_riboud_guimet_11.jpg',\n",
       "  'marc-riboud\\\\21_riboud_guimet_13.jpg',\n",
       "  'marc-riboud\\\\21_riboud_guimet_18.jpg',\n",
       "  'marc-riboud\\\\21_riboud_guimet_20.jpg',\n",
       "  'marc-riboud\\\\21_riboud_guimet_22.jpg',\n",
       "  'marc-riboud\\\\21_riboud_guimet_24.jpg',\n",
       "  'marc-riboud\\\\21_riboud_guimet_26.jpg',\n",
       "  'marc-riboud\\\\21_riboud_guimet_28.jpg',\n",
       "  'marc-riboud\\\\21_riboud_guimet_34.jpg',\n",
       "  'marc-riboud\\\\21_riboud_guimet_36.jpg',\n",
       "  'marc-riboud\\\\21_riboud_guimet_38.jpg',\n",
       "  'marc-riboud\\\\21_riboud_guimet_40.jpg',\n",
       "  'marc-riboud\\\\21_riboud_guimet_42.jpg',\n",
       "  'marc-riboud\\\\21_riboud_guimet_46.jpg',\n",
       "  'marc-riboud\\\\21_riboud_guimet_48.jpg',\n",
       "  'marc-riboud\\\\21_riboud_guimet_5.jpg',\n",
       "  'marc-riboud\\\\21_riboud_guimet_50.jpg',\n",
       "  'marc-riboud\\\\21_riboud_guimet_52.jpg',\n",
       "  'marc-riboud\\\\21_riboud_guimet_60.jpg',\n",
       "  'marc-riboud\\\\21_riboud_guimet_62.jpg',\n",
       "  'marc-riboud\\\\21_riboud_guimet_65.jpg',\n",
       "  'marc-riboud\\\\21_riboud_guimet_67.jpg',\n",
       "  'marc-riboud\\\\21_riboud_guimet_7.jpg',\n",
       "  'marc-riboud\\\\21_riboud_guimet_70.jpg',\n",
       "  'marc-riboud\\\\21_riboud_guimet_72.jpg',\n",
       "  'marc-riboud\\\\21_riboud_guimet_76.jpg',\n",
       "  'marc-riboud\\\\21_riboud_guimet_78.jpg',\n",
       "  'marc-riboud\\\\21_riboud_guimet_80.jpg',\n",
       "  'marc-riboud\\\\21_riboud_guimet_82.jpg',\n",
       "  'marc-riboud\\\\21_riboud_guimet_84.jpg',\n",
       "  'marc-riboud\\\\21_riboud_guimet_86.jpg',\n",
       "  'marc-riboud\\\\21_riboud_guimet_9.jpg',\n",
       "  'marc-riboud\\\\21_riboud_guimet_92.jpg',\n",
       "  'marc-riboud\\\\21_riboud_guimet_94.jpg',\n",
       "  'marc-riboud\\\\21_riboud_guimet_99.jpg',\n",
       "  'seidou-keita\\\\16_seydou_keita_08.jpg',\n",
       "  'seidou-keita\\\\16_seydou_keita_09.jpg',\n",
       "  'seidou-keita\\\\16_seydou_keita_11.jpg',\n",
       "  'seidou-keita\\\\16_seydou_keita_12.jpg',\n",
       "  'seidou-keita\\\\16_seydou_keita_13.jpg',\n",
       "  'seidou-keita\\\\16_seydou_keita_14.jpg',\n",
       "  'seidou-keita\\\\16_seydou_keita_15.jpg',\n",
       "  'seidou-keita\\\\16_seydou_keita_16.jpg',\n",
       "  'seidou-keita\\\\16_seydou_keita_18.jpg',\n",
       "  'seidou-keita\\\\16_seydou_keita_19.jpg',\n",
       "  'seidou-keita\\\\16_seydou_keita_20.jpg',\n",
       "  'seidou-keita\\\\16_seydou_keita_22.jpg',\n",
       "  'seidou-keita\\\\16_seydou_keita_23.jpg',\n",
       "  'shomei-tomatsu\\\\21_tomatsu_mep_05.jpg',\n",
       "  'shomei-tomatsu\\\\21_tomatsu_mep_09.jpg',\n",
       "  'shomei-tomatsu\\\\21_tomatsu_mep_11.jpg',\n",
       "  'shomei-tomatsu\\\\21_tomatsu_mep_15.jpg',\n",
       "  'shomei-tomatsu\\\\21_tomatsu_mep_17.jpg',\n",
       "  'shomei-tomatsu\\\\21_tomatsu_mep_19.jpg',\n",
       "  'shomei-tomatsu\\\\21_tomatsu_mep_21.jpg',\n",
       "  'shomei-tomatsu\\\\21_tomatsu_mep_24.jpg',\n",
       "  'shomei-tomatsu\\\\21_tomatsu_mep_29.jpg',\n",
       "  'shomei-tomatsu\\\\21_tomatsu_mep_32.jpg',\n",
       "  'shomei-tomatsu\\\\21_tomatsu_mep_40.jpg',\n",
       "  'shomei-tomatsu\\\\21_tomatsu_mep_42.jpg',\n",
       "  'shomei-tomatsu\\\\21_tomatsu_mep_44.jpg',\n",
       "  'walter-evans\\\\17_walker_evans_1.jpg',\n",
       "  'walter-evans\\\\17_walker_evans_10.jpg',\n",
       "  'walter-evans\\\\17_walker_evans_12.jpg',\n",
       "  'walter-evans\\\\17_walker_evans_14.jpg',\n",
       "  'walter-evans\\\\17_walker_evans_16.jpg',\n",
       "  'walter-evans\\\\17_walker_evans_20.jpg',\n",
       "  'walter-evans\\\\17_walker_evans_22.jpg',\n",
       "  'walter-evans\\\\17_walker_evans_24.jpg',\n",
       "  'walter-evans\\\\17_walker_evans_26.jpg',\n",
       "  'walter-evans\\\\17_walker_evans_3.jpg',\n",
       "  'walter-evans\\\\17_walker_evans_31.jpg',\n",
       "  'walter-evans\\\\17_walker_evans_33.jpg',\n",
       "  'walter-evans\\\\17_walker_evans_35.jpg',\n",
       "  'walter-evans\\\\17_walker_evans_41.jpg',\n",
       "  'walter-evans\\\\17_walker_evans_44.jpg',\n",
       "  'walter-evans\\\\17_walker_evans_45.jpg',\n",
       "  'walter-evans\\\\17_walker_evans_47.jpg',\n",
       "  'walter-evans\\\\17_walker_evans_49.jpg',\n",
       "  'walter-evans\\\\17_walker_evans_51.jpg',\n",
       "  'walter-evans\\\\17_walker_evans_53.jpg',\n",
       "  'walter-evans\\\\17_walker_evans_55.jpg',\n",
       "  'walter-evans\\\\17_walker_evans_57.jpg',\n",
       "  'walter-evans\\\\17_walker_evans_6.jpg',\n",
       "  'walter-evans\\\\17_walker_evans_60.jpg',\n",
       "  'walter-evans\\\\17_walker_evans_66.jpg',\n",
       "  'walter-evans\\\\17_walker_evans_68.jpg'],\n",
       " array([0, 0, 0, 0, 0, 0, 0, 0, 0, 0, 0, 0, 0, 0, 0, 0, 0, 0, 0, 0, 0, 0,\n",
       "        0, 0, 0, 0, 0, 0, 0, 0, 0, 0, 1, 1, 1, 1, 1, 1, 1, 1, 1, 1, 1, 1,\n",
       "        1, 1, 1, 1, 1, 1, 2, 2, 2, 2, 2, 2, 2, 2, 2, 2, 2, 2, 2, 2, 2, 2,\n",
       "        2, 2, 2, 2, 2, 2, 2, 2, 2, 2, 2, 3, 3, 3, 3, 3, 3, 3, 3, 3, 3, 3,\n",
       "        3, 3, 3, 3, 3, 3, 3, 3, 3, 3, 3, 3, 3, 3, 3, 3, 3, 3, 3, 3, 3, 3,\n",
       "        3, 3, 3, 3, 3, 3, 3, 3, 3, 3, 3, 3, 4, 4, 4, 4, 4, 4, 4, 4, 4, 4,\n",
       "        4, 4, 4, 4, 4, 4, 4, 4, 4, 4, 4, 4, 4, 4, 4, 4, 4, 4, 4, 4, 4, 4,\n",
       "        4, 4, 4, 4, 4, 4, 5, 5, 5, 5, 5, 5, 5, 5, 5, 5, 5, 5, 5, 5, 5, 5,\n",
       "        5, 5, 5, 5, 5, 5, 5, 5, 5, 5, 5, 5, 5, 5, 5, 5, 5, 6, 6, 6, 6, 6,\n",
       "        6, 6, 6, 6, 6, 6, 6, 6, 6, 6, 6, 6, 6, 6, 6, 6, 6, 6, 6, 6, 6, 6,\n",
       "        6, 6, 6, 6, 6, 6, 6, 6, 7, 7, 7, 7, 7, 7, 7, 7, 7, 7, 7, 7, 7, 8,\n",
       "        8, 8, 8, 8, 8, 8, 8, 8, 8, 8, 8, 8, 9, 9, 9, 9, 9, 9, 9, 9, 9, 9,\n",
       "        9, 9, 9, 9, 9, 9, 9, 9, 9, 9, 9, 9, 9, 9, 9, 9]),\n",
       " ['daido-moriyama',\n",
       "  'dorothea-lange',\n",
       "  'felix-nadar',\n",
       "  'henri-cartier-bresson',\n",
       "  'irving-penn',\n",
       "  'malik-sidibe',\n",
       "  'marc-riboud',\n",
       "  'seidou-keita',\n",
       "  'shomei-tomatsu',\n",
       "  'walter-evans'])"
      ]
     },
     "execution_count": 4,
     "metadata": {},
     "output_type": "execute_result"
    }
   ],
   "source": [
    "inames, ilabels, class_names"
   ]
  },
  {
   "cell_type": "code",
   "execution_count": 10,
   "id": "267ce6a1",
   "metadata": {},
   "outputs": [
    {
     "name": "stderr",
     "output_type": "stream",
     "text": [
      "100%|████████████████████████████████████████████████████████████████████████████████| 280/280 [00:17<00:00, 15.90it/s]\n"
     ]
    }
   ],
   "source": [
    "laplacians = ComputeLaplacians(inames)"
   ]
  },
  {
   "cell_type": "code",
   "execution_count": 11,
   "id": "cabee34a",
   "metadata": {},
   "outputs": [],
   "source": [
    "laplacians = np.array(laplacians)"
   ]
  },
  {
   "cell_type": "code",
   "execution_count": 12,
   "id": "35106066",
   "metadata": {},
   "outputs": [],
   "source": [
    "X_train, X_test, y_train, y_test = train_test_split(laplacians ,ilabels,\n",
    "                                                    test_size=0.2,stratify=ilabels)"
   ]
  },
  {
   "cell_type": "code",
   "execution_count": 13,
   "id": "00126650",
   "metadata": {},
   "outputs": [
    {
     "name": "stdout",
     "output_type": "stream",
     "text": [
      "Training data and target sizes: \n",
      "(224, 262144), (224,)\n",
      "Test data and target sizes: \n",
      "(56, 262144), (56,)\n"
     ]
    }
   ],
   "source": [
    "print('Training data and target sizes: \\n{}, {}'.format(X_train.shape,y_train.shape))\n",
    "print('Test data and target sizes: \\n{}, {}'.format(X_test.shape,y_test.shape))"
   ]
  },
  {
   "cell_type": "code",
   "execution_count": 14,
   "id": "742a302c",
   "metadata": {},
   "outputs": [
    {
     "name": "stdout",
     "output_type": "stream",
     "text": [
      "0.14285714285714285\n"
     ]
    }
   ],
   "source": [
    "test_accuracy = []\n",
    "scaler = StandardScaler()\n",
    "X_scaled = scaler.fit_transform(X_train)\n",
    "X_scaled_Test = scaler.transform(X_test)\n",
    "classifier = KNeighborsClassifier(n_neighbors=1,algorithm='brute')\n",
    "classifier.fit(X_train, y_train)\n",
    "test_accuracy = classifier.score(scaler.transform(X_scaled_Test), y_test)\n",
    "print(test_accuracy)"
   ]
  },
  {
   "cell_type": "code",
   "execution_count": 15,
   "id": "6f92f629",
   "metadata": {},
   "outputs": [
    {
     "name": "stdout",
     "output_type": "stream",
     "text": [
      "--> accuracy = 0.35714285714285715\n"
     ]
    }
   ],
   "source": [
    "model_one = SVC(C=40, kernel='linear', max_iter=10000, probability=True)\n",
    "# Fit on sub-train set\n",
    "# TODO\n",
    "model_one.fit(X_train, y_train)\n",
    "# Evaluate on val set\n",
    "# TODO\n",
    "y_hat_test = model_one.predict(X_test)\n",
    "acc1 = accuracy_score(y_true=y_test, y_pred=y_hat_test)\n",
    "print(f'--> accuracy = {acc1}')"
   ]
  },
  {
   "cell_type": "code",
   "execution_count": 16,
   "id": "5bc533d5",
   "metadata": {},
   "outputs": [
    {
     "name": "stdout",
     "output_type": "stream",
     "text": [
      "Accuracy: 0.3392857142857143\n"
     ]
    }
   ],
   "source": [
    "clf=RandomForestClassifier(n_estimators=100)\n",
    "clf.fit(X_train,y_train)\n",
    "\n",
    "y_pred=clf.predict(X_test)\n",
    "acc3 = metrics.accuracy_score(y_test, y_pred)\n",
    "print(\"Accuracy:\",acc3)"
   ]
  },
  {
   "cell_type": "code",
   "execution_count": 17,
   "id": "f66bfd81",
   "metadata": {},
   "outputs": [
    {
     "name": "stdout",
     "output_type": "stream",
     "text": [
      "--> accuracy = 0.21428571428571427\n"
     ]
    }
   ],
   "source": [
    "# Create adaboost classifer object\n",
    "abc = AdaBoostClassifier(n_estimators=100, learning_rate = 0.01)\n",
    "# Train Adaboost Classifer\n",
    "model4 = abc.fit(X_train, y_train)\n",
    "\n",
    "#Predict the response for test dataset\n",
    "y_hat = model4.predict(X_test)\n",
    "\n",
    "acc4 = model4.score(X_test, y_test)\n",
    "print(f'--> accuracy = {acc4}')"
   ]
  },
  {
   "cell_type": "code",
   "execution_count": 18,
   "id": "da22f5b3",
   "metadata": {},
   "outputs": [
    {
     "name": "stdout",
     "output_type": "stream",
     "text": [
      "--> accuracy = 0.19642857142857142\n"
     ]
    }
   ],
   "source": [
    "from sklearn import model_selection\n",
    "from sklearn.ensemble import BaggingClassifier\n",
    "from sklearn import tree\n",
    "model_BC = BaggingClassifier(tree.DecisionTreeClassifier(random_state=2))\n",
    "model_BC.fit(X_train, y_train)\n",
    "acc5 = model_BC.score(X_test,y_test)\n",
    "print(f'--> accuracy = {acc5}')"
   ]
  },
  {
   "cell_type": "code",
   "execution_count": 19,
   "id": "c35851f5",
   "metadata": {},
   "outputs": [
    {
     "name": "stdout",
     "output_type": "stream",
     "text": [
      "--> accuracy = 0.21428571428571427\n"
     ]
    }
   ],
   "source": [
    "ensemble = [('svc', model_one), ('knn', classifier),('rf', clf),('ada', abc), ('Bagging', model_BC)]\n",
    "\n",
    "eclf3 = VotingClassifier(ensemble)\n",
    "\n",
    "eclf3 = VotingClassifier(estimators=[\n",
    "      ('svc', model_one), ('knn', classifier),('rf', clf),('ada', abc), ('Bagging', model_BC)],\n",
    "       voting='soft',\n",
    "       flatten_transform=True, weights=[1,1,1,1,1])\n",
    "\n",
    "#results = model_selection.cross_val_score(ensemble, X, Y, cv=kfold)\n",
    "\n",
    "eclf3 = eclf3.fit(X_train, y_train)\n",
    "y_pred = eclf3.predict(X_test)\n",
    "\n",
    "acc = accuracy_score(y_test, y_pred)\n",
    "print(f'--> accuracy = {acc}')"
   ]
  },
  {
   "cell_type": "code",
   "execution_count": null,
   "id": "c581ab6e",
   "metadata": {},
   "outputs": [],
   "source": []
  }
 ],
 "metadata": {
  "kernelspec": {
   "display_name": "Python 3 (ipykernel)",
   "language": "python",
   "name": "python3"
  },
  "language_info": {
   "codemirror_mode": {
    "name": "ipython",
    "version": 3
   },
   "file_extension": ".py",
   "mimetype": "text/x-python",
   "name": "python",
   "nbconvert_exporter": "python",
   "pygments_lexer": "ipython3",
   "version": "3.8.12"
  }
 },
 "nbformat": 4,
 "nbformat_minor": 5
}
