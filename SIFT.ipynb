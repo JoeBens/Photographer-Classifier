{
 "cells": [
  {
   "cell_type": "code",
   "execution_count": 2,
   "metadata": {},
   "outputs": [],
   "source": [
    "import numpy as np\n",
    "import cv2 as cv\n",
    "import os"
   ]
  },
  {
   "cell_type": "code",
   "execution_count": 3,
   "metadata": {},
   "outputs": [],
   "source": [
    "path = \"images-photographes\""
   ]
  },
  {
   "cell_type": "code",
   "execution_count": 4,
   "metadata": {},
   "outputs": [],
   "source": [
    "def load_dataset(dir_sc, images_per_class=None):\n",
    "    inames = []\n",
    "    ilabels = []\n",
    "    cnames = sorted(os.listdir(dir_sc))\n",
    "    for ilabel, cl in enumerate(cnames):\n",
    "        dir_cl = os.path.join(dir_sc, cl)\n",
    "        for iname in os.listdir(dir_cl)[:images_per_class]:\n",
    "            inames.append(os.path.join(cl, iname))\n",
    "            ilabels.append(ilabel)\n",
    "    ilabels = np.array(ilabels)\n",
    "    return inames, ilabels, cnames\n"
   ]
  },
  {
   "cell_type": "code",
   "execution_count": 34,
   "metadata": {},
   "outputs": [],
   "source": [
    "def ComputeSift(I,p):\n",
    "    gray= cv.cvtColor(I,cv.COLOR_BGR2GRAY)\n",
    "    sift = cv.SIFT_create()\n",
    "    kp, des = sift.detectAndCompute(gray,None)\n",
    "    img = cv.drawKeypoints(gray,kp,I,flags=cv.DRAW_MATCHES_FLAGS_DRAW_RICH_KEYPOINTS)\n",
    "    cv.imwrite(os.path.join('Sifts',p), img)\n",
    "    print(os.path.join('Sifts',p))\n",
    "    #cv.imshow('First Image',img)\n",
    "    #cv.waitKey()\n",
    "    #cv.destroyAllWindows()\n",
    "    return kp, des"
   ]
  },
  {
   "cell_type": "code",
   "execution_count": 27,
   "metadata": {},
   "outputs": [
    {
     "ename": "TypeError",
     "evalue": "ComputeSift() missing 1 required positional argument: 'p'",
     "output_type": "error",
     "traceback": [
      "\u001b[1;31m---------------------------------------------------------------------------\u001b[0m",
      "\u001b[1;31mTypeError\u001b[0m                                 Traceback (most recent call last)",
      "\u001b[1;32m~\\AppData\\Local\\Temp/ipykernel_20272/1289254405.py\u001b[0m in \u001b[0;36m<module>\u001b[1;34m\u001b[0m\n\u001b[1;32m----> 1\u001b[1;33m \u001b[0mComputeSift\u001b[0m\u001b[1;33m(\u001b[0m\u001b[0mcv\u001b[0m\u001b[1;33m.\u001b[0m\u001b[0mimread\u001b[0m\u001b[1;33m(\u001b[0m\u001b[1;34m'Ysabel.jpg'\u001b[0m\u001b[1;33m)\u001b[0m\u001b[1;33m)\u001b[0m\u001b[1;33m\u001b[0m\u001b[1;33m\u001b[0m\u001b[0m\n\u001b[0m",
      "\u001b[1;31mTypeError\u001b[0m: ComputeSift() missing 1 required positional argument: 'p'"
     ]
    }
   ],
   "source": [
    "ComputeSift(cv.imread('Ysabel.jpg'))"
   ]
  },
  {
   "cell_type": "code",
   "execution_count": 35,
   "metadata": {},
   "outputs": [],
   "source": [
    "def ComputeSiftDataset(inames):\n",
    "    keypoints = []\n",
    "    descriptors = []\n",
    "    for x in inames:\n",
    "        p = os.path.join(path, x)\n",
    "        #print(p)\n",
    "        img = cv.imread(p)\n",
    "        kp, des = ComputeSift(img, x)\n",
    "        keypoints.append(kp)\n",
    "        descriptors.append(des)\n",
    "    \n",
    "    return keypoints, descriptors\n",
    "        \n",
    "    "
   ]
  },
  {
   "cell_type": "code",
   "execution_count": 38,
   "metadata": {},
   "outputs": [
    {
     "data": {
      "text/plain": [
       "['daido-moriyama',\n",
       " 'dorothea-lange',\n",
       " 'felix-nadar',\n",
       " 'henri-cartier-bresson',\n",
       " 'irving-penn',\n",
       " 'malik-sidibe',\n",
       " 'marc-riboud',\n",
       " 'seidou-keita',\n",
       " 'shomei-tomatsu',\n",
       " 'walter-evans']"
      ]
     },
     "execution_count": 38,
     "metadata": {},
     "output_type": "execute_result"
    }
   ],
   "source": [
    "inames, ilabels, class_names = load_dataset(path)\n",
    "class_names"
   ]
  },
  {
   "cell_type": "code",
   "execution_count": 39,
   "metadata": {},
   "outputs": [
    {
     "data": {
      "text/plain": [
       "array([0, 0, 0, 0, 0, 0, 0, 0, 0, 0, 0, 0, 0, 0, 0, 0, 0, 0, 0, 0, 0, 0,\n",
       "       0, 0, 0, 0, 0, 0, 0, 0, 0, 0, 1, 1, 1, 1, 1, 1, 1, 1, 1, 1, 1, 1,\n",
       "       1, 1, 1, 1, 1, 1, 2, 2, 2, 2, 2, 2, 2, 2, 2, 2, 2, 2, 2, 2, 2, 2,\n",
       "       2, 2, 2, 2, 2, 2, 2, 2, 2, 2, 2, 3, 3, 3, 3, 3, 3, 3, 3, 3, 3, 3,\n",
       "       3, 3, 3, 3, 3, 3, 3, 3, 3, 3, 3, 3, 3, 3, 3, 3, 3, 3, 3, 3, 3, 3,\n",
       "       3, 3, 3, 3, 3, 3, 3, 3, 3, 3, 3, 3, 4, 4, 4, 4, 4, 4, 4, 4, 4, 4,\n",
       "       4, 4, 4, 4, 4, 4, 4, 4, 4, 4, 4, 4, 4, 4, 4, 4, 4, 4, 4, 4, 4, 4,\n",
       "       4, 4, 4, 4, 4, 4, 5, 5, 5, 5, 5, 5, 5, 5, 5, 5, 5, 5, 5, 5, 5, 5,\n",
       "       5, 5, 5, 5, 5, 5, 5, 5, 5, 5, 5, 5, 5, 5, 5, 5, 5, 6, 6, 6, 6, 6,\n",
       "       6, 6, 6, 6, 6, 6, 6, 6, 6, 6, 6, 6, 6, 6, 6, 6, 6, 6, 6, 6, 6, 6,\n",
       "       6, 6, 6, 6, 6, 6, 6, 6, 7, 7, 7, 7, 7, 7, 7, 7, 7, 7, 7, 7, 7, 8,\n",
       "       8, 8, 8, 8, 8, 8, 8, 8, 8, 8, 8, 8, 9, 9, 9, 9, 9, 9, 9, 9, 9, 9,\n",
       "       9, 9, 9, 9, 9, 9, 9, 9, 9, 9, 9, 9, 9, 9, 9, 9])"
      ]
     },
     "execution_count": 39,
     "metadata": {},
     "output_type": "execute_result"
    }
   ],
   "source": [
    "ilabels"
   ]
  },
  {
   "cell_type": "code",
   "execution_count": 37,
   "metadata": {},
   "outputs": [
    {
     "name": "stdout",
     "output_type": "stream",
     "text": [
      "Sifts\\daido-moriyama\\16_daido_moriyama_24.jpg\n",
      "Sifts\\daido-moriyama\\16_daido_moriyama_25.jpg\n",
      "Sifts\\daido-moriyama\\16_daido_moriyama_26.jpg\n",
      "Sifts\\daido-moriyama\\16_daido_moriyama_27.jpg\n",
      "Sifts\\daido-moriyama\\21_moriyama_mep_050.jpg\n",
      "Sifts\\daido-moriyama\\21_moriyama_mep_051.jpg\n",
      "Sifts\\daido-moriyama\\21_moriyama_mep_059.jpg\n",
      "Sifts\\daido-moriyama\\21_moriyama_mep_063.jpg\n",
      "Sifts\\daido-moriyama\\21_moriyama_mep_064.jpg\n",
      "Sifts\\daido-moriyama\\21_moriyama_mep_065.jpg\n",
      "Sifts\\daido-moriyama\\21_moriyama_mep_066.jpg\n",
      "Sifts\\daido-moriyama\\21_moriyama_mep_068.jpg\n",
      "Sifts\\daido-moriyama\\21_moriyama_mep_073.jpg\n",
      "Sifts\\daido-moriyama\\21_moriyama_mep_075.jpg\n",
      "Sifts\\daido-moriyama\\21_moriyama_mep_077.jpg\n",
      "Sifts\\daido-moriyama\\21_moriyama_mep_078.jpg\n",
      "Sifts\\daido-moriyama\\21_moriyama_mep_079.jpg\n",
      "Sifts\\daido-moriyama\\21_moriyama_mep_080.jpg\n",
      "Sifts\\daido-moriyama\\21_moriyama_mep_081.jpg\n",
      "Sifts\\daido-moriyama\\21_moriyama_mep_082.jpg\n",
      "Sifts\\daido-moriyama\\21_moriyama_mep_083.jpg\n",
      "Sifts\\daido-moriyama\\21_moriyama_mep_085.jpg\n",
      "Sifts\\daido-moriyama\\21_moriyama_mep_087.jpg\n",
      "Sifts\\daido-moriyama\\21_moriyama_mep_089.jpg\n",
      "Sifts\\daido-moriyama\\21_moriyama_mep_090.jpg\n",
      "Sifts\\daido-moriyama\\21_moriyama_mep_094.jpg\n",
      "Sifts\\daido-moriyama\\21_moriyama_mep_096.jpg\n",
      "Sifts\\daido-moriyama\\21_moriyama_mep_098.jpg\n",
      "Sifts\\daido-moriyama\\21_moriyama_mep_099.jpg\n",
      "Sifts\\daido-moriyama\\21_moriyama_mep_100.jpg\n",
      "Sifts\\daido-moriyama\\21_moriyama_mep_103.jpg\n",
      "Sifts\\daido-moriyama\\21_moriyama_mep_112.jpg\n",
      "Sifts\\dorothea-lange\\18_lange_jeu-de-paume_1.jpg\n",
      "Sifts\\dorothea-lange\\18_lange_jeu-de-paume_12.jpg\n",
      "Sifts\\dorothea-lange\\18_lange_jeu-de-paume_14.jpg\n",
      "Sifts\\dorothea-lange\\18_lange_jeu-de-paume_18.jpg\n",
      "Sifts\\dorothea-lange\\18_lange_jeu-de-paume_20.jpg\n",
      "Sifts\\dorothea-lange\\18_lange_jeu-de-paume_28.jpg\n",
      "Sifts\\dorothea-lange\\18_lange_jeu-de-paume_3.jpg\n",
      "Sifts\\dorothea-lange\\18_lange_jeu-de-paume_30.jpg\n",
      "Sifts\\dorothea-lange\\18_lange_jeu-de-paume_32.jpg\n",
      "Sifts\\dorothea-lange\\18_lange_jeu-de-paume_36.jpg\n",
      "Sifts\\dorothea-lange\\18_lange_jeu-de-paume_40.jpg\n",
      "Sifts\\dorothea-lange\\18_lange_jeu-de-paume_44.jpg\n",
      "Sifts\\dorothea-lange\\18_lange_jeu-de-paume_46.jpg\n",
      "Sifts\\dorothea-lange\\18_lange_jeu-de-paume_48.jpg\n",
      "Sifts\\dorothea-lange\\18_lange_jeu-de-paume_5.jpg\n",
      "Sifts\\dorothea-lange\\18_lange_jeu-de-paume_50.jpg\n",
      "Sifts\\dorothea-lange\\18_lange_jeu-de-paume_52.jpg\n",
      "Sifts\\dorothea-lange\\18_lange_jeu-de-paume_9.jpg\n",
      "Sifts\\felix-nadar\\18_nadar_bnf_005.jpg\n",
      "Sifts\\felix-nadar\\18_nadar_bnf_008.jpg\n",
      "Sifts\\felix-nadar\\18_nadar_bnf_009.jpg\n",
      "Sifts\\felix-nadar\\18_nadar_bnf_014.jpg\n",
      "Sifts\\felix-nadar\\18_nadar_bnf_021.jpg\n",
      "Sifts\\felix-nadar\\18_nadar_bnf_023.jpg\n",
      "Sifts\\felix-nadar\\18_nadar_bnf_027.jpg\n",
      "Sifts\\felix-nadar\\18_nadar_bnf_029.jpg\n",
      "Sifts\\felix-nadar\\18_nadar_bnf_099.jpg\n",
      "Sifts\\felix-nadar\\18_nadar_bnf_103.jpg\n",
      "Sifts\\felix-nadar\\18_nadar_bnf_107.jpg\n",
      "Sifts\\felix-nadar\\18_nadar_bnf_109.jpg\n",
      "Sifts\\felix-nadar\\18_nadar_bnf_111.jpg\n",
      "Sifts\\felix-nadar\\18_nadar_bnf_113.jpg\n",
      "Sifts\\felix-nadar\\18_nadar_bnf_115.jpg\n",
      "Sifts\\felix-nadar\\18_nadar_bnf_118.jpg\n",
      "Sifts\\felix-nadar\\18_nadar_bnf_120.jpg\n",
      "Sifts\\felix-nadar\\18_nadar_bnf_139.jpg\n",
      "Sifts\\felix-nadar\\18_nadar_bnf_145.jpg\n",
      "Sifts\\felix-nadar\\18_nadar_bnf_161.jpg\n",
      "Sifts\\felix-nadar\\18_nadar_bnf_163.jpg\n",
      "Sifts\\felix-nadar\\18_nadar_bnf_172.jpg\n",
      "Sifts\\felix-nadar\\18_nadar_bnf_174.jpg\n",
      "Sifts\\felix-nadar\\18_nadar_bnf_176.jpg\n",
      "Sifts\\felix-nadar\\18_nadar_bnf_180.jpg\n",
      "Sifts\\felix-nadar\\18_nadar_bnf_181.jpg\n",
      "Sifts\\felix-nadar\\18_nadar_bnf_191.jpg\n",
      "Sifts\\henri-cartier-bresson\\21-cartier-bresson_004_bnf_14.jpg\n",
      "Sifts\\henri-cartier-bresson\\21-cartier-bresson_008_bnf_24.jpg\n",
      "Sifts\\henri-cartier-bresson\\21-cartier-bresson_009_bnf_56.jpg\n",
      "Sifts\\henri-cartier-bresson\\21-cartier-bresson_019_bnf_48.jpg\n",
      "Sifts\\henri-cartier-bresson\\21-cartier-bresson_021_bnf_125.jpg\n",
      "Sifts\\henri-cartier-bresson\\21-cartier-bresson_025_bnf_42.jpg\n",
      "Sifts\\henri-cartier-bresson\\21-cartier-bresson_041_bnf_4.jpg\n",
      "Sifts\\henri-cartier-bresson\\21-cartier-bresson_079_bnf_53.jpg\n",
      "Sifts\\henri-cartier-bresson\\21-cartier-bresson_087_bnf_50.jpg\n",
      "Sifts\\henri-cartier-bresson\\21-cartier-bresson_088_bnf_16.jpg\n",
      "Sifts\\henri-cartier-bresson\\21-cartier-bresson_106_bnf_18.jpg\n",
      "Sifts\\henri-cartier-bresson\\21-cartier-bresson_109_bnf_127.jpg\n",
      "Sifts\\henri-cartier-bresson\\21-cartier-bresson_124_bnf_30.jpg\n",
      "Sifts\\henri-cartier-bresson\\21-cartier-bresson_130_bnf_105.jpg\n",
      "Sifts\\henri-cartier-bresson\\21-cartier-bresson_137_bnf_209.jpg\n",
      "Sifts\\henri-cartier-bresson\\21-cartier-bresson_151_bnf_2.jpg\n",
      "Sifts\\henri-cartier-bresson\\21-cartier-bresson_162_bnf_61.jpg\n",
      "Sifts\\henri-cartier-bresson\\21-cartier-bresson_165_bnf_28.jpg\n",
      "Sifts\\henri-cartier-bresson\\21-cartier-bresson_194_bnf_247.jpg\n",
      "Sifts\\henri-cartier-bresson\\21-cartier-bresson_195_bnf_44.jpg\n",
      "Sifts\\henri-cartier-bresson\\21-cartier-bresson_198_bnf_8.jpg\n",
      "Sifts\\henri-cartier-bresson\\21-cartier-bresson_206_bnf_36.jpg\n",
      "Sifts\\henri-cartier-bresson\\21-cartier-bresson_215_bnf_249.jpg\n",
      "Sifts\\henri-cartier-bresson\\21-cartier-bresson_220_bnf_205.jpg\n",
      "Sifts\\henri-cartier-bresson\\21-cartier-bresson_256_bnf_6.jpg\n",
      "Sifts\\henri-cartier-bresson\\21-cartier-bresson_257_bnf_207.jpg\n",
      "Sifts\\henri-cartier-bresson\\21-cartier-bresson_268_bnf_40.jpg\n",
      "Sifts\\henri-cartier-bresson\\21-cartier-bresson_285_bnf_109.jpg\n",
      "Sifts\\henri-cartier-bresson\\21-cartier-bresson_329_bnf_46.jpg\n",
      "Sifts\\henri-cartier-bresson\\21-cartier-bresson_342_bnf_113.jpg\n",
      "Sifts\\henri-cartier-bresson\\21-cartier-bresson_343_bnf_103.jpg\n",
      "Sifts\\henri-cartier-bresson\\21-cartier-bresson_353_bnf_20.jpg\n",
      "Sifts\\henri-cartier-bresson\\21-cartier-bresson_359_bnf_59.jpg\n",
      "Sifts\\henri-cartier-bresson\\21-cartier-bresson_360_bnf_101.jpg\n",
      "Sifts\\henri-cartier-bresson\\21-cartier-bresson_361_bnf_119.jpg\n",
      "Sifts\\henri-cartier-bresson\\21-cartier-bresson_361_bnf_120.jpg\n",
      "Sifts\\henri-cartier-bresson\\21-cartier-bresson_381_bnf_10.jpg\n",
      "Sifts\\henri-cartier-bresson\\21-cartier-bresson_bnf_115.jpg\n",
      "Sifts\\henri-cartier-bresson\\21-cartier-bresson_bnf_116.jpg\n",
      "Sifts\\henri-cartier-bresson\\21-cartier-bresson_bnf_117.jpg\n",
      "Sifts\\henri-cartier-bresson\\21-cartier-bresson_bnf_118.jpg\n",
      "Sifts\\henri-cartier-bresson\\21-cartier-bresson_bnf_119.jpg\n",
      "Sifts\\henri-cartier-bresson\\21-cartier-bresson_bnf_26.jpg\n",
      "Sifts\\henri-cartier-bresson\\21-cartier-bresson_bnf_38.jpg\n",
      "Sifts\\henri-cartier-bresson\\21-cartier-bresson_xxx_bnf_243.jpg\n",
      "Sifts\\irving-penn\\17_irving_penn_1.jpg\n",
      "Sifts\\irving-penn\\17_irving_penn_101.jpg\n",
      "Sifts\\irving-penn\\17_irving_penn_103.jpg\n",
      "Sifts\\irving-penn\\17_irving_penn_105.jpg\n",
      "Sifts\\irving-penn\\17_irving_penn_15.jpg\n",
      "Sifts\\irving-penn\\17_irving_penn_17.jpg\n",
      "Sifts\\irving-penn\\17_irving_penn_19.jpg\n",
      "Sifts\\irving-penn\\17_irving_penn_21.jpg\n",
      "Sifts\\irving-penn\\17_irving_penn_23.jpg\n",
      "Sifts\\irving-penn\\17_irving_penn_29.jpg\n",
      "Sifts\\irving-penn\\17_irving_penn_31.jpg\n",
      "Sifts\\irving-penn\\17_irving_penn_33.jpg\n",
      "Sifts\\irving-penn\\17_irving_penn_35.jpg\n",
      "Sifts\\irving-penn\\17_irving_penn_39.jpg\n",
      "Sifts\\irving-penn\\17_irving_penn_41.jpg\n",
      "Sifts\\irving-penn\\17_irving_penn_43.jpg\n",
      "Sifts\\irving-penn\\17_irving_penn_45.jpg\n",
      "Sifts\\irving-penn\\17_irving_penn_47.jpg\n",
      "Sifts\\irving-penn\\17_irving_penn_49.jpg\n",
      "Sifts\\irving-penn\\17_irving_penn_51.jpg\n",
      "Sifts\\irving-penn\\17_irving_penn_53.jpg\n",
      "Sifts\\irving-penn\\17_irving_penn_55.jpg\n",
      "Sifts\\irving-penn\\17_irving_penn_57.jpg\n",
      "Sifts\\irving-penn\\17_irving_penn_59.jpg\n",
      "Sifts\\irving-penn\\17_irving_penn_61.jpg\n",
      "Sifts\\irving-penn\\17_irving_penn_65.jpg\n",
      "Sifts\\irving-penn\\17_irving_penn_68.jpg\n",
      "Sifts\\irving-penn\\17_irving_penn_7.jpg\n",
      "Sifts\\irving-penn\\17_irving_penn_70.jpg\n",
      "Sifts\\irving-penn\\17_irving_penn_72.jpg\n",
      "Sifts\\irving-penn\\17_irving_penn_74.jpg\n",
      "Sifts\\irving-penn\\17_irving_penn_76.jpg\n",
      "Sifts\\irving-penn\\17_irving_penn_78.jpg\n",
      "Sifts\\irving-penn\\17_irving_penn_90.jpg\n",
      "Sifts\\irving-penn\\17_irving_penn_92.jpg\n",
      "Sifts\\irving-penn\\17_irving_penn_94.jpg\n",
      "Sifts\\irving-penn\\17_irving_penn_96.jpg\n",
      "Sifts\\irving-penn\\17_irving_penn_99.jpg\n",
      "Sifts\\malik-sidibe\\18_sidibe_1.jpg\n",
      "Sifts\\malik-sidibe\\18_sidibe_11.jpg\n",
      "Sifts\\malik-sidibe\\18_sidibe_18.jpg\n",
      "Sifts\\malik-sidibe\\18_sidibe_19.jpg\n",
      "Sifts\\malik-sidibe\\18_sidibe_2.jpg\n",
      "Sifts\\malik-sidibe\\18_sidibe_20.jpg\n",
      "Sifts\\malik-sidibe\\18_sidibe_21.jpg\n",
      "Sifts\\malik-sidibe\\18_sidibe_22.jpg\n",
      "Sifts\\malik-sidibe\\18_sidibe_23.jpg\n",
      "Sifts\\malik-sidibe\\18_sidibe_3.jpg\n",
      "Sifts\\malik-sidibe\\18_sidibe_33.jpg\n",
      "Sifts\\malik-sidibe\\18_sidibe_34.jpg\n",
      "Sifts\\malik-sidibe\\18_sidibe_35.jpg\n",
      "Sifts\\malik-sidibe\\18_sidibe_36.jpg\n"
     ]
    },
    {
     "name": "stdout",
     "output_type": "stream",
     "text": [
      "Sifts\\malik-sidibe\\18_sidibe_37.jpg\n",
      "Sifts\\malik-sidibe\\18_sidibe_38.jpg\n",
      "Sifts\\malik-sidibe\\18_sidibe_4.jpg\n",
      "Sifts\\malik-sidibe\\18_sidibe_40.jpg\n",
      "Sifts\\malik-sidibe\\18_sidibe_41.jpg\n",
      "Sifts\\malik-sidibe\\18_sidibe_42.jpg\n",
      "Sifts\\malik-sidibe\\18_sidibe_43.jpg\n",
      "Sifts\\malik-sidibe\\18_sidibe_44.jpg\n",
      "Sifts\\malik-sidibe\\18_sidibe_45.jpg\n",
      "Sifts\\malik-sidibe\\18_sidibe_46.jpg\n",
      "Sifts\\malik-sidibe\\18_sidibe_47.jpg\n",
      "Sifts\\malik-sidibe\\18_sidibe_48.jpg\n",
      "Sifts\\malik-sidibe\\18_sidibe_5.jpg\n",
      "Sifts\\malik-sidibe\\18_sidibe_51.jpg\n",
      "Sifts\\malik-sidibe\\18_sidibe_52.jpg\n",
      "Sifts\\malik-sidibe\\18_sidibe_53.jpg\n",
      "Sifts\\malik-sidibe\\18_sidibe_6.jpg\n",
      "Sifts\\malik-sidibe\\18_sidibe_7.jpg\n",
      "Sifts\\malik-sidibe\\18_sidibe_8.jpg\n",
      "Sifts\\marc-riboud\\21_riboud_guimet_11.jpg\n",
      "Sifts\\marc-riboud\\21_riboud_guimet_13.jpg\n",
      "Sifts\\marc-riboud\\21_riboud_guimet_18.jpg\n",
      "Sifts\\marc-riboud\\21_riboud_guimet_20.jpg\n",
      "Sifts\\marc-riboud\\21_riboud_guimet_22.jpg\n",
      "Sifts\\marc-riboud\\21_riboud_guimet_24.jpg\n",
      "Sifts\\marc-riboud\\21_riboud_guimet_26.jpg\n",
      "Sifts\\marc-riboud\\21_riboud_guimet_28.jpg\n",
      "Sifts\\marc-riboud\\21_riboud_guimet_34.jpg\n",
      "Sifts\\marc-riboud\\21_riboud_guimet_36.jpg\n",
      "Sifts\\marc-riboud\\21_riboud_guimet_38.jpg\n",
      "Sifts\\marc-riboud\\21_riboud_guimet_40.jpg\n",
      "Sifts\\marc-riboud\\21_riboud_guimet_42.jpg\n",
      "Sifts\\marc-riboud\\21_riboud_guimet_46.jpg\n",
      "Sifts\\marc-riboud\\21_riboud_guimet_48.jpg\n",
      "Sifts\\marc-riboud\\21_riboud_guimet_5.jpg\n",
      "Sifts\\marc-riboud\\21_riboud_guimet_50.jpg\n",
      "Sifts\\marc-riboud\\21_riboud_guimet_52.jpg\n",
      "Sifts\\marc-riboud\\21_riboud_guimet_60.jpg\n",
      "Sifts\\marc-riboud\\21_riboud_guimet_62.jpg\n",
      "Sifts\\marc-riboud\\21_riboud_guimet_65.jpg\n",
      "Sifts\\marc-riboud\\21_riboud_guimet_67.jpg\n",
      "Sifts\\marc-riboud\\21_riboud_guimet_7.jpg\n",
      "Sifts\\marc-riboud\\21_riboud_guimet_70.jpg\n",
      "Sifts\\marc-riboud\\21_riboud_guimet_72.jpg\n",
      "Sifts\\marc-riboud\\21_riboud_guimet_76.jpg\n",
      "Sifts\\marc-riboud\\21_riboud_guimet_78.jpg\n",
      "Sifts\\marc-riboud\\21_riboud_guimet_80.jpg\n",
      "Sifts\\marc-riboud\\21_riboud_guimet_82.jpg\n",
      "Sifts\\marc-riboud\\21_riboud_guimet_84.jpg\n",
      "Sifts\\marc-riboud\\21_riboud_guimet_86.jpg\n",
      "Sifts\\marc-riboud\\21_riboud_guimet_9.jpg\n",
      "Sifts\\marc-riboud\\21_riboud_guimet_92.jpg\n",
      "Sifts\\marc-riboud\\21_riboud_guimet_94.jpg\n",
      "Sifts\\marc-riboud\\21_riboud_guimet_99.jpg\n",
      "Sifts\\seidou-keita\\16_seydou_keita_08.jpg\n",
      "Sifts\\seidou-keita\\16_seydou_keita_09.jpg\n",
      "Sifts\\seidou-keita\\16_seydou_keita_11.jpg\n",
      "Sifts\\seidou-keita\\16_seydou_keita_12.jpg\n",
      "Sifts\\seidou-keita\\16_seydou_keita_13.jpg\n",
      "Sifts\\seidou-keita\\16_seydou_keita_14.jpg\n",
      "Sifts\\seidou-keita\\16_seydou_keita_15.jpg\n",
      "Sifts\\seidou-keita\\16_seydou_keita_16.jpg\n",
      "Sifts\\seidou-keita\\16_seydou_keita_18.jpg\n",
      "Sifts\\seidou-keita\\16_seydou_keita_19.jpg\n",
      "Sifts\\seidou-keita\\16_seydou_keita_20.jpg\n",
      "Sifts\\seidou-keita\\16_seydou_keita_22.jpg\n",
      "Sifts\\seidou-keita\\16_seydou_keita_23.jpg\n",
      "Sifts\\shomei-tomatsu\\21_tomatsu_mep_05.jpg\n",
      "Sifts\\shomei-tomatsu\\21_tomatsu_mep_09.jpg\n",
      "Sifts\\shomei-tomatsu\\21_tomatsu_mep_11.jpg\n",
      "Sifts\\shomei-tomatsu\\21_tomatsu_mep_15.jpg\n",
      "Sifts\\shomei-tomatsu\\21_tomatsu_mep_17.jpg\n",
      "Sifts\\shomei-tomatsu\\21_tomatsu_mep_19.jpg\n",
      "Sifts\\shomei-tomatsu\\21_tomatsu_mep_21.jpg\n",
      "Sifts\\shomei-tomatsu\\21_tomatsu_mep_24.jpg\n",
      "Sifts\\shomei-tomatsu\\21_tomatsu_mep_29.jpg\n",
      "Sifts\\shomei-tomatsu\\21_tomatsu_mep_32.jpg\n",
      "Sifts\\shomei-tomatsu\\21_tomatsu_mep_40.jpg\n",
      "Sifts\\shomei-tomatsu\\21_tomatsu_mep_42.jpg\n",
      "Sifts\\shomei-tomatsu\\21_tomatsu_mep_44.jpg\n",
      "Sifts\\walter-evans\\17_walker_evans_1.jpg\n",
      "Sifts\\walter-evans\\17_walker_evans_10.jpg\n",
      "Sifts\\walter-evans\\17_walker_evans_12.jpg\n",
      "Sifts\\walter-evans\\17_walker_evans_14.jpg\n",
      "Sifts\\walter-evans\\17_walker_evans_16.jpg\n",
      "Sifts\\walter-evans\\17_walker_evans_20.jpg\n",
      "Sifts\\walter-evans\\17_walker_evans_22.jpg\n",
      "Sifts\\walter-evans\\17_walker_evans_24.jpg\n",
      "Sifts\\walter-evans\\17_walker_evans_26.jpg\n",
      "Sifts\\walter-evans\\17_walker_evans_3.jpg\n",
      "Sifts\\walter-evans\\17_walker_evans_31.jpg\n",
      "Sifts\\walter-evans\\17_walker_evans_33.jpg\n",
      "Sifts\\walter-evans\\17_walker_evans_35.jpg\n",
      "Sifts\\walter-evans\\17_walker_evans_41.jpg\n",
      "Sifts\\walter-evans\\17_walker_evans_44.jpg\n",
      "Sifts\\walter-evans\\17_walker_evans_45.jpg\n",
      "Sifts\\walter-evans\\17_walker_evans_47.jpg\n",
      "Sifts\\walter-evans\\17_walker_evans_49.jpg\n",
      "Sifts\\walter-evans\\17_walker_evans_51.jpg\n",
      "Sifts\\walter-evans\\17_walker_evans_53.jpg\n",
      "Sifts\\walter-evans\\17_walker_evans_55.jpg\n",
      "Sifts\\walter-evans\\17_walker_evans_57.jpg\n",
      "Sifts\\walter-evans\\17_walker_evans_6.jpg\n",
      "Sifts\\walter-evans\\17_walker_evans_60.jpg\n",
      "Sifts\\walter-evans\\17_walker_evans_66.jpg\n",
      "Sifts\\walter-evans\\17_walker_evans_68.jpg\n"
     ]
    }
   ],
   "source": [
    "keypoints, descriptors = ComputeSiftDataset(inames)"
   ]
  },
  {
   "cell_type": "code",
   "execution_count": 47,
   "metadata": {},
   "outputs": [
    {
     "data": {
      "text/plain": [
       "(8617, 128)"
      ]
     },
     "execution_count": 47,
     "metadata": {},
     "output_type": "execute_result"
    }
   ],
   "source": [
    "descriptors[4].shape"
   ]
  },
  {
   "cell_type": "code",
   "execution_count": 46,
   "metadata": {},
   "outputs": [
    {
     "data": {
      "text/plain": [
       "280"
      ]
     },
     "execution_count": 46,
     "metadata": {},
     "output_type": "execute_result"
    }
   ],
   "source": [
    "len(keypoints)"
   ]
  },
  {
   "cell_type": "code",
   "execution_count": 1,
   "metadata": {},
   "outputs": [],
   "source": [
    "from sklearn.cluster import KMeans"
   ]
  },
  {
   "cell_type": "code",
   "execution_count": 40,
   "metadata": {},
   "outputs": [
    {
     "ename": "ValueError",
     "evalue": "setting an array element with a sequence. The requested array has an inhomogeneous shape after 1 dimensions. The detected shape was (280,) + inhomogeneous part.",
     "output_type": "error",
     "traceback": [
      "\u001b[1;31m---------------------------------------------------------------------------\u001b[0m",
      "\u001b[1;31mValueError\u001b[0m                                Traceback (most recent call last)",
      "\u001b[1;32m~\\AppData\\Local\\Temp/ipykernel_20272/4196190635.py\u001b[0m in \u001b[0;36m<module>\u001b[1;34m\u001b[0m\n\u001b[0;32m      1\u001b[0m \u001b[0mkmeans\u001b[0m \u001b[1;33m=\u001b[0m \u001b[0mKMeans\u001b[0m\u001b[1;33m(\u001b[0m\u001b[0mn_clusters\u001b[0m \u001b[1;33m=\u001b[0m \u001b[1;36m800\u001b[0m\u001b[1;33m)\u001b[0m\u001b[1;33m\u001b[0m\u001b[1;33m\u001b[0m\u001b[0m\n\u001b[1;32m----> 2\u001b[1;33m \u001b[0mkmeans\u001b[0m\u001b[1;33m.\u001b[0m\u001b[0mfit\u001b[0m\u001b[1;33m(\u001b[0m\u001b[0mdescriptors\u001b[0m\u001b[1;33m)\u001b[0m\u001b[1;33m\u001b[0m\u001b[1;33m\u001b[0m\u001b[0m\n\u001b[0m\u001b[0;32m      3\u001b[0m \u001b[1;33m\u001b[0m\u001b[0m\n\u001b[0;32m      4\u001b[0m \u001b[0mpreprocessed_image\u001b[0m \u001b[1;33m=\u001b[0m \u001b[1;33m[\u001b[0m\u001b[1;33m]\u001b[0m\u001b[1;33m\u001b[0m\u001b[1;33m\u001b[0m\u001b[0m\n\u001b[0;32m      5\u001b[0m \u001b[1;32mfor\u001b[0m \u001b[0md\u001b[0m \u001b[1;32min\u001b[0m \u001b[0mdescriptors\u001b[0m\u001b[1;33m:\u001b[0m\u001b[1;33m\u001b[0m\u001b[1;33m\u001b[0m\u001b[0m\n",
      "\u001b[1;32m~\\anaconda3\\lib\\site-packages\\sklearn\\cluster\\_kmeans.py\u001b[0m in \u001b[0;36mfit\u001b[1;34m(self, X, y, sample_weight)\u001b[0m\n\u001b[0;32m   1138\u001b[0m             \u001b[0mFitted\u001b[0m \u001b[0mestimator\u001b[0m\u001b[1;33m.\u001b[0m\u001b[1;33m\u001b[0m\u001b[1;33m\u001b[0m\u001b[0m\n\u001b[0;32m   1139\u001b[0m         \"\"\"\n\u001b[1;32m-> 1140\u001b[1;33m         X = self._validate_data(\n\u001b[0m\u001b[0;32m   1141\u001b[0m             \u001b[0mX\u001b[0m\u001b[1;33m,\u001b[0m\u001b[1;33m\u001b[0m\u001b[1;33m\u001b[0m\u001b[0m\n\u001b[0;32m   1142\u001b[0m             \u001b[0maccept_sparse\u001b[0m\u001b[1;33m=\u001b[0m\u001b[1;34m\"csr\"\u001b[0m\u001b[1;33m,\u001b[0m\u001b[1;33m\u001b[0m\u001b[1;33m\u001b[0m\u001b[0m\n",
      "\u001b[1;32m~\\anaconda3\\lib\\site-packages\\sklearn\\base.py\u001b[0m in \u001b[0;36m_validate_data\u001b[1;34m(self, X, y, reset, validate_separately, **check_params)\u001b[0m\n\u001b[0;32m    559\u001b[0m             \u001b[1;32mraise\u001b[0m \u001b[0mValueError\u001b[0m\u001b[1;33m(\u001b[0m\u001b[1;34m\"Validation should be done on X, y or both.\"\u001b[0m\u001b[1;33m)\u001b[0m\u001b[1;33m\u001b[0m\u001b[1;33m\u001b[0m\u001b[0m\n\u001b[0;32m    560\u001b[0m         \u001b[1;32melif\u001b[0m \u001b[1;32mnot\u001b[0m \u001b[0mno_val_X\u001b[0m \u001b[1;32mand\u001b[0m \u001b[0mno_val_y\u001b[0m\u001b[1;33m:\u001b[0m\u001b[1;33m\u001b[0m\u001b[1;33m\u001b[0m\u001b[0m\n\u001b[1;32m--> 561\u001b[1;33m             \u001b[0mX\u001b[0m \u001b[1;33m=\u001b[0m \u001b[0mcheck_array\u001b[0m\u001b[1;33m(\u001b[0m\u001b[0mX\u001b[0m\u001b[1;33m,\u001b[0m \u001b[1;33m**\u001b[0m\u001b[0mcheck_params\u001b[0m\u001b[1;33m)\u001b[0m\u001b[1;33m\u001b[0m\u001b[1;33m\u001b[0m\u001b[0m\n\u001b[0m\u001b[0;32m    562\u001b[0m             \u001b[0mout\u001b[0m \u001b[1;33m=\u001b[0m \u001b[0mX\u001b[0m\u001b[1;33m\u001b[0m\u001b[1;33m\u001b[0m\u001b[0m\n\u001b[0;32m    563\u001b[0m         \u001b[1;32melif\u001b[0m \u001b[0mno_val_X\u001b[0m \u001b[1;32mand\u001b[0m \u001b[1;32mnot\u001b[0m \u001b[0mno_val_y\u001b[0m\u001b[1;33m:\u001b[0m\u001b[1;33m\u001b[0m\u001b[1;33m\u001b[0m\u001b[0m\n",
      "\u001b[1;32m~\\anaconda3\\lib\\site-packages\\sklearn\\utils\\validation.py\u001b[0m in \u001b[0;36mcheck_array\u001b[1;34m(array, accept_sparse, accept_large_sparse, dtype, order, copy, force_all_finite, ensure_2d, allow_nd, ensure_min_samples, ensure_min_features, estimator)\u001b[0m\n\u001b[0;32m    736\u001b[0m                     \u001b[0marray\u001b[0m \u001b[1;33m=\u001b[0m \u001b[0marray\u001b[0m\u001b[1;33m.\u001b[0m\u001b[0mastype\u001b[0m\u001b[1;33m(\u001b[0m\u001b[0mdtype\u001b[0m\u001b[1;33m,\u001b[0m \u001b[0mcasting\u001b[0m\u001b[1;33m=\u001b[0m\u001b[1;34m\"unsafe\"\u001b[0m\u001b[1;33m,\u001b[0m \u001b[0mcopy\u001b[0m\u001b[1;33m=\u001b[0m\u001b[1;32mFalse\u001b[0m\u001b[1;33m)\u001b[0m\u001b[1;33m\u001b[0m\u001b[1;33m\u001b[0m\u001b[0m\n\u001b[0;32m    737\u001b[0m                 \u001b[1;32melse\u001b[0m\u001b[1;33m:\u001b[0m\u001b[1;33m\u001b[0m\u001b[1;33m\u001b[0m\u001b[0m\n\u001b[1;32m--> 738\u001b[1;33m                     \u001b[0marray\u001b[0m \u001b[1;33m=\u001b[0m \u001b[0mnp\u001b[0m\u001b[1;33m.\u001b[0m\u001b[0masarray\u001b[0m\u001b[1;33m(\u001b[0m\u001b[0marray\u001b[0m\u001b[1;33m,\u001b[0m \u001b[0morder\u001b[0m\u001b[1;33m=\u001b[0m\u001b[0morder\u001b[0m\u001b[1;33m,\u001b[0m \u001b[0mdtype\u001b[0m\u001b[1;33m=\u001b[0m\u001b[0mdtype\u001b[0m\u001b[1;33m)\u001b[0m\u001b[1;33m\u001b[0m\u001b[1;33m\u001b[0m\u001b[0m\n\u001b[0m\u001b[0;32m    739\u001b[0m             \u001b[1;32mexcept\u001b[0m \u001b[0mComplexWarning\u001b[0m \u001b[1;32mas\u001b[0m \u001b[0mcomplex_warning\u001b[0m\u001b[1;33m:\u001b[0m\u001b[1;33m\u001b[0m\u001b[1;33m\u001b[0m\u001b[0m\n\u001b[0;32m    740\u001b[0m                 raise ValueError(\n",
      "\u001b[1;31mValueError\u001b[0m: setting an array element with a sequence. The requested array has an inhomogeneous shape after 1 dimensions. The detected shape was (280,) + inhomogeneous part."
     ]
    }
   ],
   "source": [
    "kmeans = KMeans(n_clusters = 800)\n",
    "kmeans.fit(descriptors)\n",
    "\n",
    "preprocessed_image = []\n",
    "for d in descriptors:\n",
    "    if (descriptor is not None):\n",
    "        histo = build_histogram(descriptor, kmeans)\n",
    "        preprocessed_image.append(histogram)"
   ]
  },
  {
   "cell_type": "code",
   "execution_count": null,
   "metadata": {},
   "outputs": [],
   "source": []
  }
 ],
 "metadata": {
  "kernelspec": {
   "display_name": "Python 3 (ipykernel)",
   "language": "python",
   "name": "python3"
  },
  "language_info": {
   "codemirror_mode": {
    "name": "ipython",
    "version": 3
   },
   "file_extension": ".py",
   "mimetype": "text/x-python",
   "name": "python",
   "nbconvert_exporter": "python",
   "pygments_lexer": "ipython3",
   "version": "3.8.12"
  }
 },
 "nbformat": 4,
 "nbformat_minor": 4
}
