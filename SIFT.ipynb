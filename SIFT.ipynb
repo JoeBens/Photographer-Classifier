{
 "cells": [
  {
   "cell_type": "code",
   "execution_count": 1,
   "metadata": {},
   "outputs": [],
   "source": [
    "import numpy as np\n",
    "import cv2 as cv\n",
    "import os"
   ]
  },
  {
   "cell_type": "code",
   "execution_count": 2,
   "metadata": {},
   "outputs": [],
   "source": [
    "path = \"images-photographes\""
   ]
  },
  {
   "cell_type": "code",
   "execution_count": 3,
   "metadata": {},
   "outputs": [],
   "source": [
    "def load_dataset(dir_sc, images_per_class=None):\n",
    "    inames = []\n",
    "    ilabels = []\n",
    "    cnames = sorted(os.listdir(dir_sc))\n",
    "    for ilabel, cl in enumerate(cnames):\n",
    "        dir_cl = os.path.join(dir_sc, cl)\n",
    "        for iname in os.listdir(dir_cl)[:images_per_class]:\n",
    "            inames.append(os.path.join(cl, iname))\n",
    "            ilabels.append(ilabel)\n",
    "    ilabels = np.array(ilabels)\n",
    "    return inames, ilabels, cnames\n"
   ]
  },
  {
   "cell_type": "code",
   "execution_count": 9,
   "metadata": {},
   "outputs": [],
   "source": [
    "def ComputeSift(I,p):\n",
    "    gray= cv.cvtColor(I,cv.COLOR_BGR2GRAY)\n",
    "    sift = cv.SIFT_create()\n",
    "    kp, des = sift.detectAndCompute(gray,None)\n",
    "    img = cv.drawKeypoints(gray,kp,I,flags=cv.DRAW_MATCHES_FLAGS_DRAW_RICH_KEYPOINTS)\n",
    "    cv.imwrite(os.path.join('Sifts',p), img)\n",
    "    #print(os.path.join('Sifts',p))\n",
    "    #cv.imshow('First Image',img)\n",
    "    #cv.waitKey()\n",
    "    #cv.destroyAllWindows()\n",
    "    return kp, des"
   ]
  },
  {
   "cell_type": "code",
   "execution_count": 5,
   "metadata": {},
   "outputs": [],
   "source": [
    "def ComputeSiftDataset(inames):\n",
    "    keypoints = []\n",
    "    descriptors = []\n",
    "    for x in inames:\n",
    "        p = os.path.join(path, x)\n",
    "        #print(p)\n",
    "        img = cv.imread(p)\n",
    "        kp, des = ComputeSift(img, x)\n",
    "        keypoints.append(kp)\n",
    "        descriptors.append(des)\n",
    "    \n",
    "    return keypoints, descriptors\n",
    "        \n",
    "    "
   ]
  },
  {
   "cell_type": "code",
   "execution_count": 7,
   "metadata": {},
   "outputs": [],
   "source": [
    "inames, ilabels, class_names = load_dataset(path)"
   ]
  },
  {
   "cell_type": "code",
   "execution_count": 8,
   "metadata": {},
   "outputs": [
    {
     "data": {
      "text/plain": [
       "['daido-moriyama',\n",
       " 'dorothea-lange',\n",
       " 'felix-nadar',\n",
       " 'henri-cartier-bresson',\n",
       " 'irving-penn',\n",
       " 'malik-sidibe',\n",
       " 'marc-riboud',\n",
       " 'seidou-keita',\n",
       " 'shomei-tomatsu',\n",
       " 'walter-evans']"
      ]
     },
     "execution_count": 8,
     "metadata": {},
     "output_type": "execute_result"
    }
   ],
   "source": [
    "class_names"
   ]
  },
  {
   "cell_type": "code",
   "execution_count": 17,
   "metadata": {},
   "outputs": [
    {
     "data": {
      "text/plain": [
       "(280,)"
      ]
     },
     "execution_count": 17,
     "metadata": {},
     "output_type": "execute_result"
    }
   ],
   "source": [
    "ilabels.shape"
   ]
  },
  {
   "cell_type": "code",
   "execution_count": 10,
   "metadata": {},
   "outputs": [],
   "source": [
    "keypoints, descriptors = ComputeSiftDataset(inames)"
   ]
  },
  {
   "cell_type": "code",
   "execution_count": 16,
   "metadata": {},
   "outputs": [
    {
     "data": {
      "text/plain": [
       "280"
      ]
     },
     "execution_count": 16,
     "metadata": {},
     "output_type": "execute_result"
    }
   ],
   "source": [
    "len(descriptors)"
   ]
  },
  {
   "cell_type": "code",
   "execution_count": 13,
   "metadata": {},
   "outputs": [],
   "source": [
    "from sklearn.cluster import KMeans"
   ]
  },
  {
   "cell_type": "code",
   "execution_count": 21,
   "metadata": {},
   "outputs": [],
   "source": [
    "def compute_split(length, seed=1337, pc=0.80):\n",
    "    train_ids = np.random.RandomState(seed=seed).choice(\n",
    "        length,\n",
    "        size=int(length * pc),\n",
    "        replace=False)\n",
    "    test_ids = np.array(list(set(np.arange(length)) - set(train_ids)))\n",
    "    return train_ids, test_ids"
   ]
  },
  {
   "cell_type": "code",
   "execution_count": 22,
   "metadata": {},
   "outputs": [],
   "source": [
    "def compute_visual_dict(sift, n_clusters=1000, n_init=1, verbose=1):\n",
    "    # reorder data\n",
    "    dim_sift = sift[0].shape[-1]\n",
    "    sift = [s.reshape(-1, dim_sift) for s in sift]\n",
    "    sift = np.concatenate(sift, axis=0)\n",
    "    # remove zero vectors\n",
    "    keep = ~np.all(sift==0, axis=1)\n",
    "    sift = sift[keep]\n",
    "    # randomly pick sift\n",
    "    ids, _ = compute_split(sift.shape[0], pc=0.05)\n",
    "    sift = sift[ids]\n",
    "\n",
    "    zeros_vect = np.zeros((128))\n",
    "    kmeans = KMeans(n_clusters=n_clusters).fit(sift)\n",
    "    centers = kmeans.cluster_centers_\n",
    "    np.append(centers, zeros_vect)\n",
    "    vdict = centers\n",
    "\n",
    "    return vdict"
   ]
  },
  {
   "cell_type": "code",
   "execution_count": null,
   "metadata": {},
   "outputs": [],
   "source": [
    "vdict = compute_visual_dict(descriptors)\n",
    "vdict"
   ]
  },
  {
   "cell_type": "code",
   "execution_count": null,
   "metadata": {},
   "outputs": [],
   "source": [
    "vdict.shape"
   ]
  },
  {
   "cell_type": "code",
   "execution_count": null,
   "metadata": {},
   "outputs": [],
   "source": [
    "import matplotlib.pyplot as plt\n",
    "def display_images(images):\n",
    "    n_images,w,h = images.shape\n",
    "    n = int(np.ceil(np.sqrt(n_images)))\n",
    "    im = np.zeros((n*w, n*h))\n",
    "    for k in range(n_images):\n",
    "        i = k % n\n",
    "        j = k // n\n",
    "        im[i*w:i*w+w, j*h:j*h+h] = images[k]\n",
    "\n",
    "    mplt.figure(figsize=(0.7*n,0.7*n))\n",
    "    mplt.gray()\n",
    "    mplt.imshow(im)\n",
    "    mplt.axis('off')\n",
    "    mplt.show()\n",
    "    "
   ]
  },
  {
   "cell_type": "code",
   "execution_count": null,
   "metadata": {},
   "outputs": [],
   "source": [
    "indexes = np.random.randint(0, len(inames), 30)\n",
    "sifts = [sifts_list_by_image[i] for i in indexes]\n",
    "chosen_inames = [inames[i] for i in indexes]\n",
    "\n",
    "regions, sifts = get_regions_and_sifts(dir_sc, chosen_inames, sifts) # Compute SIFT and regions from 30 random images\n",
    "display_images(regions[np.random.choice(len(regions), 100)]) # Show 100 random regions\n",
    "\n",
    "centers = list(range(20))\n",
    "for center in centers:\n",
    "  center_vect = vdict[center]\n",
    "  dist = ((sifts - center_vect)**2).sum(axis=1)\n",
    "  # get best 100\n",
    "  top100 = dist.argsort()[:100]\n",
    "  top100_regions = regions[top100]\n",
    "  display_images(top100_regions) # Show 100 random regions"
   ]
  }
 ],
 "metadata": {
  "kernelspec": {
   "display_name": "Python 3 (ipykernel)",
   "language": "python",
   "name": "python3"
  },
  "language_info": {
   "codemirror_mode": {
    "name": "ipython",
    "version": 3
   },
   "file_extension": ".py",
   "mimetype": "text/x-python",
   "name": "python",
   "nbconvert_exporter": "python",
   "pygments_lexer": "ipython3",
   "version": "3.8.12"
  }
 },
 "nbformat": 4,
 "nbformat_minor": 4
}
