{
 "cells": [
  {
   "cell_type": "code",
   "execution_count": 1,
   "id": "383d5f34",
   "metadata": {},
   "outputs": [],
   "source": [
    "import numpy as np\n",
    "import cv2 as cv\n",
    "import os\n",
    "import matplotlib.pyplot as plt\n",
    "from sklearn.metrics.pairwise import euclidean_distances\n",
    "from scipy.spatial import distance_matrix\n",
    "\n",
    "from sklearn.svm import SVC\n",
    "from sklearn.model_selection import KFold, train_test_split\n",
    "from sklearn.metrics import roc_curve, accuracy_score\n",
    "from sklearn.model_selection import RandomizedSearchCV"
   ]
  },
  {
   "cell_type": "code",
   "execution_count": 2,
   "id": "2d5a881f",
   "metadata": {},
   "outputs": [],
   "source": [
    "path = \"images-photographes\""
   ]
  },
  {
   "cell_type": "code",
   "execution_count": 3,
   "id": "585b376b",
   "metadata": {},
   "outputs": [],
   "source": [
    "def load_dataset(dir_sc, images_per_class=None):\n",
    "    inames = []\n",
    "    ilabels = []\n",
    "    cnames = sorted(os.listdir(dir_sc))\n",
    "    for ilabel, cl in enumerate(cnames):\n",
    "        dir_cl = os.path.join(dir_sc, cl)\n",
    "        for iname in os.listdir(dir_cl)[:images_per_class]:\n",
    "            inames.append(os.path.join(cl, iname))\n",
    "            ilabels.append(ilabel)\n",
    "    ilabels = np.array(ilabels)\n",
    "    return inames, ilabels, cnames\n"
   ]
  },
  {
   "cell_type": "code",
   "execution_count": 4,
   "id": "e3e196f0",
   "metadata": {},
   "outputs": [],
   "source": [
    "inames, ilabels, class_names = load_dataset(path)"
   ]
  },
  {
   "cell_type": "code",
   "execution_count": 5,
   "id": "65d288c2",
   "metadata": {},
   "outputs": [
    {
     "data": {
      "text/plain": [
       "['daido-moriyama',\n",
       " 'dorothea-lange',\n",
       " 'felix-nadar',\n",
       " 'henri-cartier-bresson',\n",
       " 'irving-penn',\n",
       " 'malik-sidibe',\n",
       " 'marc-riboud',\n",
       " 'seidou-keita',\n",
       " 'shomei-tomatsu',\n",
       " 'walter-evans']"
      ]
     },
     "execution_count": 5,
     "metadata": {},
     "output_type": "execute_result"
    }
   ],
   "source": [
    "class_names"
   ]
  },
  {
   "cell_type": "code",
   "execution_count": 6,
   "id": "4f55032f",
   "metadata": {},
   "outputs": [
    {
     "data": {
      "text/plain": [
       "array([0, 0, 0, 0, 0, 0, 0, 0, 0, 0, 0, 0, 0, 0, 0, 0, 0, 0, 0, 0, 0, 0,\n",
       "       0, 0, 0, 0, 0, 0, 0, 0, 0, 0, 1, 1, 1, 1, 1, 1, 1, 1, 1, 1, 1, 1,\n",
       "       1, 1, 1, 1, 1, 1, 2, 2, 2, 2, 2, 2, 2, 2, 2, 2, 2, 2, 2, 2, 2, 2,\n",
       "       2, 2, 2, 2, 2, 2, 2, 2, 2, 2, 2, 3, 3, 3, 3, 3, 3, 3, 3, 3, 3, 3,\n",
       "       3, 3, 3, 3, 3, 3, 3, 3, 3, 3, 3, 3, 3, 3, 3, 3, 3, 3, 3, 3, 3, 3,\n",
       "       3, 3, 3, 3, 3, 3, 3, 3, 3, 3, 3, 3, 4, 4, 4, 4, 4, 4, 4, 4, 4, 4,\n",
       "       4, 4, 4, 4, 4, 4, 4, 4, 4, 4, 4, 4, 4, 4, 4, 4, 4, 4, 4, 4, 4, 4,\n",
       "       4, 4, 4, 4, 4, 4, 5, 5, 5, 5, 5, 5, 5, 5, 5, 5, 5, 5, 5, 5, 5, 5,\n",
       "       5, 5, 5, 5, 5, 5, 5, 5, 5, 5, 5, 5, 5, 5, 5, 5, 5, 6, 6, 6, 6, 6,\n",
       "       6, 6, 6, 6, 6, 6, 6, 6, 6, 6, 6, 6, 6, 6, 6, 6, 6, 6, 6, 6, 6, 6,\n",
       "       6, 6, 6, 6, 6, 6, 6, 6, 7, 7, 7, 7, 7, 7, 7, 7, 7, 7, 7, 7, 7, 8,\n",
       "       8, 8, 8, 8, 8, 8, 8, 8, 8, 8, 8, 8, 9, 9, 9, 9, 9, 9, 9, 9, 9, 9,\n",
       "       9, 9, 9, 9, 9, 9, 9, 9, 9, 9, 9, 9, 9, 9, 9, 9])"
      ]
     },
     "execution_count": 6,
     "metadata": {},
     "output_type": "execute_result"
    }
   ],
   "source": [
    "ilabels"
   ]
  },
  {
   "cell_type": "markdown",
   "id": "02fbd0bc",
   "metadata": {},
   "source": [
    "# SIFTs COMPUTATION"
   ]
  },
  {
   "cell_type": "code",
   "execution_count": 8,
   "id": "8f41aba6",
   "metadata": {},
   "outputs": [],
   "source": [
    "from scipy import signal\n",
    "def compute_grad(I):\n",
    "\n",
    "    ha = 1/4 * np.array([1,2,1])\n",
    "    hb = 1/2 * np.array([1,0,-1])\n",
    "\n",
    "    Ix = conv_separable(I, hb, ha)\n",
    "    Iy = conv_separable(I, ha, hb)\n",
    "    return Ix, Iy"
   ]
  },
  {
   "cell_type": "code",
   "execution_count": 9,
   "id": "111a9199",
   "metadata": {},
   "outputs": [],
   "source": [
    "def compute_grad_mod_ori(I):\n",
    "\n",
    "\n",
    "    Ix, Iy = compute_grad(I)\n",
    "\n",
    "    Gn = np.sqrt(Ix**2 + Iy**2)\n",
    "    Go = compute_grad_ori(Ix, Iy, Gn, 8)#np.arctan(Iy/Ix)\n",
    "    return Gn, Go"
   ]
  },
  {
   "cell_type": "code",
   "execution_count": null,
   "id": "06e152c7",
   "metadata": {},
   "outputs": [],
   "source": [
    "def compute_histogram(g_n, g_o):\n",
    "    \"\"\"\n",
    "    g_n and g_o are 4x4 matrices that contain the norm, and the discretized orientation.\n",
    "    Warning: g_o can contain -1, thos1e values should be discarded.\n",
    "    \"\"\"\n",
    "    hist = np.zeros((8))\n",
    "    for i in range(8):\n",
    "        hist[i] = g_n[g_o == i].sum()\n",
    "    \n",
    "    return hist"
   ]
  }
 ],
 "metadata": {
  "kernelspec": {
   "display_name": "Python 3 (ipykernel)",
   "language": "python",
   "name": "python3"
  },
  "language_info": {
   "codemirror_mode": {
    "name": "ipython",
    "version": 3
   },
   "file_extension": ".py",
   "mimetype": "text/x-python",
   "name": "python",
   "nbconvert_exporter": "python",
   "pygments_lexer": "ipython3",
   "version": "3.8.12"
  }
 },
 "nbformat": 4,
 "nbformat_minor": 5
}
