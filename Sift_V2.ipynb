{
 "cells": [
  {
   "cell_type": "code",
   "execution_count": 1,
   "id": "99d6853a",
   "metadata": {},
   "outputs": [],
   "source": [
    "import numpy as np\n",
    "import cv2 as cv\n",
    "import os\n",
    "import matplotlib.pyplot as plt\n",
    "from sklearn.metrics.pairwise import euclidean_distances\n",
    "from scipy.spatial import distance_matrix\n",
    "\n",
    "from sklearn.svm import SVC\n",
    "from sklearn.model_selection import KFold, train_test_split\n",
    "from sklearn.metrics import roc_curve, accuracy_score\n",
    "from sklearn.model_selection import RandomizedSearchCV"
   ]
  },
  {
   "cell_type": "code",
   "execution_count": 2,
   "id": "fb5ab362",
   "metadata": {},
   "outputs": [],
   "source": [
    "path = \"images-photographes\""
   ]
  },
  {
   "cell_type": "code",
   "execution_count": 3,
   "id": "7c3ffefa",
   "metadata": {},
   "outputs": [],
   "source": [
    "def load_dataset(dir_sc, images_per_class=None):\n",
    "    inames = []\n",
    "    ilabels = []\n",
    "    cnames = sorted(os.listdir(dir_sc))\n",
    "    for ilabel, cl in enumerate(cnames):\n",
    "        dir_cl = os.path.join(dir_sc, cl)\n",
    "        for iname in os.listdir(dir_cl)[:images_per_class]:\n",
    "            inames.append(os.path.join(cl, iname))\n",
    "            ilabels.append(ilabel)\n",
    "    ilabels = np.array(ilabels)\n",
    "    return inames, ilabels, cnames\n"
   ]
  },
  {
   "cell_type": "code",
   "execution_count": 4,
   "id": "ed118080",
   "metadata": {},
   "outputs": [],
   "source": [
    "inames, ilabels, class_names = load_dataset(path)"
   ]
  },
  {
   "cell_type": "code",
   "execution_count": 5,
   "id": "643152c2",
   "metadata": {},
   "outputs": [
    {
     "data": {
      "text/plain": [
       "['daido-moriyama',\n",
       " 'dorothea-lange',\n",
       " 'felix-nadar',\n",
       " 'henri-cartier-bresson',\n",
       " 'irving-penn',\n",
       " 'malik-sidibe',\n",
       " 'marc-riboud',\n",
       " 'seidou-keita',\n",
       " 'shomei-tomatsu',\n",
       " 'walter-evans']"
      ]
     },
     "execution_count": 5,
     "metadata": {},
     "output_type": "execute_result"
    }
   ],
   "source": [
    "class_names"
   ]
  },
  {
   "cell_type": "code",
   "execution_count": 6,
   "id": "d49d5dbd",
   "metadata": {},
   "outputs": [
    {
     "data": {
      "text/plain": [
       "array([0, 0, 0, 0, 0, 0, 0, 0, 0, 0, 0, 0, 0, 0, 0, 0, 0, 0, 0, 0, 0, 0,\n",
       "       0, 0, 0, 0, 0, 0, 0, 0, 0, 0, 1, 1, 1, 1, 1, 1, 1, 1, 1, 1, 1, 1,\n",
       "       1, 1, 1, 1, 1, 1, 2, 2, 2, 2, 2, 2, 2, 2, 2, 2, 2, 2, 2, 2, 2, 2,\n",
       "       2, 2, 2, 2, 2, 2, 2, 2, 2, 2, 2, 3, 3, 3, 3, 3, 3, 3, 3, 3, 3, 3,\n",
       "       3, 3, 3, 3, 3, 3, 3, 3, 3, 3, 3, 3, 3, 3, 3, 3, 3, 3, 3, 3, 3, 3,\n",
       "       3, 3, 3, 3, 3, 3, 3, 3, 3, 3, 3, 3, 4, 4, 4, 4, 4, 4, 4, 4, 4, 4,\n",
       "       4, 4, 4, 4, 4, 4, 4, 4, 4, 4, 4, 4, 4, 4, 4, 4, 4, 4, 4, 4, 4, 4,\n",
       "       4, 4, 4, 4, 4, 4, 5, 5, 5, 5, 5, 5, 5, 5, 5, 5, 5, 5, 5, 5, 5, 5,\n",
       "       5, 5, 5, 5, 5, 5, 5, 5, 5, 5, 5, 5, 5, 5, 5, 5, 5, 6, 6, 6, 6, 6,\n",
       "       6, 6, 6, 6, 6, 6, 6, 6, 6, 6, 6, 6, 6, 6, 6, 6, 6, 6, 6, 6, 6, 6,\n",
       "       6, 6, 6, 6, 6, 6, 6, 6, 7, 7, 7, 7, 7, 7, 7, 7, 7, 7, 7, 7, 7, 8,\n",
       "       8, 8, 8, 8, 8, 8, 8, 8, 8, 8, 8, 8, 9, 9, 9, 9, 9, 9, 9, 9, 9, 9,\n",
       "       9, 9, 9, 9, 9, 9, 9, 9, 9, 9, 9, 9, 9, 9, 9, 9])"
      ]
     },
     "execution_count": 6,
     "metadata": {},
     "output_type": "execute_result"
    }
   ],
   "source": [
    "ilabels"
   ]
  },
  {
   "cell_type": "markdown",
   "id": "758a7849",
   "metadata": {},
   "source": [
    "# SIFTs COMPUTATION"
   ]
  },
  {
   "cell_type": "code",
   "execution_count": 17,
   "id": "646109cd",
   "metadata": {},
   "outputs": [],
   "source": [
    "def dense_sampling(im, s=8):\n",
    "    w, h = im.shape\n",
    "    x = np.arange(0, w, s)\n",
    "    y = np.arange(0, h, s)\n",
    "    return x, y"
   ]
  },
  {
   "cell_type": "code",
   "execution_count": 22,
   "id": "26e3c05e",
   "metadata": {},
   "outputs": [],
   "source": [
    "def conv_separable(im, h_x, h_y, pad=1):\n",
    "    h_x = h_x.reshape(1,3)\n",
    "    h_y = h_y.reshape(3,1)\n",
    "\n",
    "    im_w, im_h = im.shape\n",
    "    hx_w, hx_h = h_x.shape\n",
    "    hy_w, hy_h = h_y.shape\n",
    "\n",
    "    h_x_t = h_x.transpose()\n",
    "    h_y_t = h_y.transpose()\n",
    "\n",
    "    if hx_w != 1:\n",
    "        raise ValueError()\n",
    "    if hx_h % 2 != 1:\n",
    "        raise ValueError()\n",
    "    if hy_h != 1:\n",
    "        raise ValueError()\n",
    "    if hy_w % 2 != 1:\n",
    "        raise ValueError()\n",
    "    if hx_h != hy_w:\n",
    "        raise ValueError()\n"
   ]
  },
  {
   "cell_type": "code",
   "execution_count": 18,
   "id": "639c4b1c",
   "metadata": {},
   "outputs": [],
   "source": [
    "def auto_padding(im, k=16, s=8):\n",
    "    w, h = im.shape\n",
    "    x = np.arange(0, w, s)\n",
    "    y = np.arange(0, h, s)\n",
    "    # last region could be smaller\n",
    "    last_r = im[x[-1]:x[-1]+k, y[-1]:y[-1]+k]\n",
    "    if last_r.shape == (k, k):\n",
    "        return im\n",
    "    dif_w = k - last_r.shape[0]\n",
    "    dif_h = k - last_r.shape[1]\n",
    "    n_im = np.zeros((w+dif_w, h+dif_h))\n",
    "    id_w = dif_w // 2\n",
    "    id_h = dif_h // 2\n",
    "    n_im[id_w:id_w+w, id_h:id_h+h] = im\n",
    "    return n_im"
   ]
  },
  {
   "cell_type": "code",
   "execution_count": 20,
   "id": "6549cca3",
   "metadata": {},
   "outputs": [],
   "source": [
    "def gaussian_mask(size=16, sigma=0.5):\n",
    "    sigma *= size\n",
    "    ax = np.arange(-size // 2 + 1., size // 2 + 1.)\n",
    "    xx, yy = np.meshgrid(ax, ax)\n",
    "    kernel = np.exp(-(xx**2 + yy**2) / (2. * sigma**2))\n",
    "    return kernel / np.sum(kernel)"
   ]
  },
  {
   "cell_type": "code",
   "execution_count": 52,
   "id": "f9e25cfb",
   "metadata": {},
   "outputs": [],
   "source": [
    "def compute_grad(I):\n",
    "\n",
    "    ha = 1/4 * np.array([1,2,1])\n",
    "    hb = 1/2 * np.array([1,0,-1])\n",
    "\n",
    "    Ix = conv_separable(I, hb, ha)\n",
    "    Iy = conv_separable(I, ha, hb)\n",
    "    print(Ix)\n",
    "    print(Iy)\n",
    "    return Ix, Iy"
   ]
  },
  {
   "cell_type": "code",
   "execution_count": 75,
   "id": "525455d1",
   "metadata": {},
   "outputs": [],
   "source": [
    "def compute_grad(I):\n",
    "\n",
    "    gX = cv.Sobel(I, ddepth=cv.CV_32F, dx=1, dy=0, ksize=3)\n",
    "    gY = cv.Sobel(I, ddepth=cv.CV_32F, dx=0, dy=1, ksize=3)\n",
    "    #print(gX)\n",
    "    #print(gY)\n",
    "    return gX, gY"
   ]
  },
  {
   "cell_type": "code",
   "execution_count": 76,
   "id": "7861b6ae",
   "metadata": {},
   "outputs": [],
   "source": [
    "def compute_grad_ori(g_x, g_y, g_m, b=8):\n",
    "    ori = np.zeros((b, 2))\n",
    "    for i in range(b):\n",
    "        ori[i,0] = np.cos(2 * np.pi * i / b)\n",
    "        ori[i,1] = np.sin(2 * np.pi * i / b)\n",
    "    w, h = g_m.shape\n",
    "    # TODO: algebraic form\n",
    "    g_o = np.zeros((w, h))\n",
    "    for i in range(w):\n",
    "        for j in range(h):\n",
    "            if g_m[i,j] > 0:\n",
    "                v = np.array([g_y[i,j], -g_x[i,j]])\n",
    "                v = v / np.linalg.norm(v, ord=2)\n",
    "                prod = np.dot(ori,v)\n",
    "                g_o[i,j] = np.argmax(prod)\n",
    "            else:\n",
    "                g_o[i,j] = -1\n",
    "    g_o = g_o.astype(int)\n",
    "    return g_o"
   ]
  },
  {
   "cell_type": "code",
   "execution_count": 77,
   "id": "aee02270",
   "metadata": {},
   "outputs": [],
   "source": [
    "def compute_grad_mod_ori(I):\n",
    "\n",
    "\n",
    "    Ix, Iy = compute_grad(I)\n",
    "\n",
    "    Gn = np.sqrt(Ix**2 + Iy**2)\n",
    "    Go = compute_grad_ori(Ix, Iy, Gn, 8)#np.arctan(Iy/Ix)\n",
    "    return Gn, Go"
   ]
  },
  {
   "cell_type": "code",
   "execution_count": 78,
   "id": "43a4f849",
   "metadata": {},
   "outputs": [],
   "source": [
    "def compute_histogram(g_n, g_o):\n",
    "    \"\"\"\n",
    "    g_n and g_o are 4x4 matrices that contain the norm, and the discretized orientation.\n",
    "    Warning: g_o can contain -1, thos1e values should be discarded.\n",
    "    \"\"\"\n",
    "    hist = np.zeros((8))\n",
    "    for i in range(8):\n",
    "        hist[i] = g_n[g_o == i].sum()\n",
    "    return hist"
   ]
  },
  {
   "cell_type": "code",
   "execution_count": 79,
   "id": "07f0ecff",
   "metadata": {},
   "outputs": [],
   "source": [
    "def compute_sift_region(Gn, Go, mask=None):\n",
    "    t_min=.5\n",
    "    t_max=.2\n",
    "    with_l2 = True\n",
    "\n",
    "    patch_size = 16\n",
    "    sift = np.zeros((128)) \n",
    "\n",
    "    if mask is not None:\n",
    "        Gn = Gn * mask\n",
    "    \n",
    "    idx = 0\n",
    "    for k in range(0, patch_size, 4):\n",
    "        for l in range(0, patch_size, 4):\n",
    "            hist = compute_histogram(Gn[l:l+4,k:k+4], Go[l:l+4,k:k+4])            \n",
    "            sift[idx:idx+8] = hist\n",
    "            idx += 8\n",
    "\n",
    "    norm = np.linalg.norm(sift, ord=2)\n",
    "    # min thresholding on norm\n",
    "    if norm <= t_min:\n",
    "        return np.zeros((128))\n",
    "    # l2-normalization\n",
    "    if with_l2:\n",
    "        sift = sift / norm\n",
    "    # max thresholding on values\n",
    "    sift[sift >= t_max] = t_max\n",
    "    # l2-normalization\n",
    "    if with_l2:\n",
    "        norm = np.linalg.norm(sift, ord=2)\n",
    "        sift = sift / norm\n",
    "    return sift"
   ]
  },
  {
   "cell_type": "code",
   "execution_count": 80,
   "id": "6872dadc",
   "metadata": {},
   "outputs": [],
   "source": [
    "def compute_sift_image(I):\n",
    "    x, y = dense_sampling(I)\n",
    "    im = auto_padding(I)\n",
    "    m = gaussian_mask()\n",
    "    \n",
    "    # Here, compute on the global image (norm, gradients)\n",
    "    Gn, Go = compute_grad_mod_ori(I)\n",
    "    \n",
    "    sifts = np.zeros((len(x), len(y), 128))\n",
    "    for i, xi in enumerate(x):\n",
    "        for j, yj in enumerate(y):\n",
    "            if xi + 16 <= Gn.shape[0] and yj + 16 <= Gn.shape[1]:  # it was usefull afterall\n",
    "                sifts[i, j, :] = compute_sift_region(Gn[xi:xi+16, yj:yj+16], Go[xi:xi+16, yj:yj+16], m) # TODO SIFT du patch de coordonnee (xi, yj)\n",
    "    return sifts"
   ]
  },
  {
   "cell_type": "code",
   "execution_count": 81,
   "id": "a1e40bc9",
   "metadata": {},
   "outputs": [],
   "source": [
    "def ComputeSiftDataset(inames):\n",
    "\n",
    "    descriptors = []\n",
    "    for x in inames:\n",
    "        p = os.path.join(path, x)\n",
    "        print(p)\n",
    "        img = cv.imread(p)\n",
    "        gray= cv.cvtColor(img,cv.COLOR_BGR2GRAY)\n",
    "        #print(gray.shape)\n",
    "        des = compute_sift_image(gray)\n",
    "\n",
    "        descriptors.append(des)\n",
    "    \n",
    "    return descriptors"
   ]
  },
  {
   "cell_type": "code",
   "execution_count": 82,
   "id": "e5aaeb8a",
   "metadata": {},
   "outputs": [
    {
     "name": "stdout",
     "output_type": "stream",
     "text": [
      "images-photographes\\daido-moriyama\\16_daido_moriyama_24.jpg\n",
      "images-photographes\\daido-moriyama\\16_daido_moriyama_25.jpg\n"
     ]
    },
    {
     "ename": "KeyboardInterrupt",
     "evalue": "",
     "output_type": "error",
     "traceback": [
      "\u001b[1;31m---------------------------------------------------------------------------\u001b[0m",
      "\u001b[1;31mKeyboardInterrupt\u001b[0m                         Traceback (most recent call last)",
      "\u001b[1;32m~\\AppData\\Local\\Temp/ipykernel_7900/3787032068.py\u001b[0m in \u001b[0;36m<module>\u001b[1;34m\u001b[0m\n\u001b[1;32m----> 1\u001b[1;33m \u001b[0mdescriptors\u001b[0m \u001b[1;33m=\u001b[0m \u001b[0mComputeSiftDataset\u001b[0m\u001b[1;33m(\u001b[0m\u001b[0minames\u001b[0m\u001b[1;33m)\u001b[0m\u001b[1;33m\u001b[0m\u001b[1;33m\u001b[0m\u001b[0m\n\u001b[0m",
      "\u001b[1;32m~\\AppData\\Local\\Temp/ipykernel_7900/1999328335.py\u001b[0m in \u001b[0;36mComputeSiftDataset\u001b[1;34m(inames)\u001b[0m\n\u001b[0;32m      8\u001b[0m         \u001b[0mgray\u001b[0m\u001b[1;33m=\u001b[0m \u001b[0mcv\u001b[0m\u001b[1;33m.\u001b[0m\u001b[0mcvtColor\u001b[0m\u001b[1;33m(\u001b[0m\u001b[0mimg\u001b[0m\u001b[1;33m,\u001b[0m\u001b[0mcv\u001b[0m\u001b[1;33m.\u001b[0m\u001b[0mCOLOR_BGR2GRAY\u001b[0m\u001b[1;33m)\u001b[0m\u001b[1;33m\u001b[0m\u001b[1;33m\u001b[0m\u001b[0m\n\u001b[0;32m      9\u001b[0m         \u001b[1;31m#print(gray.shape)\u001b[0m\u001b[1;33m\u001b[0m\u001b[1;33m\u001b[0m\u001b[1;33m\u001b[0m\u001b[0m\n\u001b[1;32m---> 10\u001b[1;33m         \u001b[0mdes\u001b[0m \u001b[1;33m=\u001b[0m \u001b[0mcompute_sift_image\u001b[0m\u001b[1;33m(\u001b[0m\u001b[0mgray\u001b[0m\u001b[1;33m)\u001b[0m\u001b[1;33m\u001b[0m\u001b[1;33m\u001b[0m\u001b[0m\n\u001b[0m\u001b[0;32m     11\u001b[0m \u001b[1;33m\u001b[0m\u001b[0m\n\u001b[0;32m     12\u001b[0m         \u001b[0mdescriptors\u001b[0m\u001b[1;33m.\u001b[0m\u001b[0mappend\u001b[0m\u001b[1;33m(\u001b[0m\u001b[0mdes\u001b[0m\u001b[1;33m)\u001b[0m\u001b[1;33m\u001b[0m\u001b[1;33m\u001b[0m\u001b[0m\n",
      "\u001b[1;32m~\\AppData\\Local\\Temp/ipykernel_7900/2094481500.py\u001b[0m in \u001b[0;36mcompute_sift_image\u001b[1;34m(I)\u001b[0m\n\u001b[0;32m      5\u001b[0m \u001b[1;33m\u001b[0m\u001b[0m\n\u001b[0;32m      6\u001b[0m     \u001b[1;31m# Here, compute on the global image (norm, gradients)\u001b[0m\u001b[1;33m\u001b[0m\u001b[1;33m\u001b[0m\u001b[1;33m\u001b[0m\u001b[0m\n\u001b[1;32m----> 7\u001b[1;33m     \u001b[0mGn\u001b[0m\u001b[1;33m,\u001b[0m \u001b[0mGo\u001b[0m \u001b[1;33m=\u001b[0m \u001b[0mcompute_grad_mod_ori\u001b[0m\u001b[1;33m(\u001b[0m\u001b[0mI\u001b[0m\u001b[1;33m)\u001b[0m\u001b[1;33m\u001b[0m\u001b[1;33m\u001b[0m\u001b[0m\n\u001b[0m\u001b[0;32m      8\u001b[0m \u001b[1;33m\u001b[0m\u001b[0m\n\u001b[0;32m      9\u001b[0m     \u001b[0msifts\u001b[0m \u001b[1;33m=\u001b[0m \u001b[0mnp\u001b[0m\u001b[1;33m.\u001b[0m\u001b[0mzeros\u001b[0m\u001b[1;33m(\u001b[0m\u001b[1;33m(\u001b[0m\u001b[0mlen\u001b[0m\u001b[1;33m(\u001b[0m\u001b[0mx\u001b[0m\u001b[1;33m)\u001b[0m\u001b[1;33m,\u001b[0m \u001b[0mlen\u001b[0m\u001b[1;33m(\u001b[0m\u001b[0my\u001b[0m\u001b[1;33m)\u001b[0m\u001b[1;33m,\u001b[0m \u001b[1;36m128\u001b[0m\u001b[1;33m)\u001b[0m\u001b[1;33m)\u001b[0m\u001b[1;33m\u001b[0m\u001b[1;33m\u001b[0m\u001b[0m\n",
      "\u001b[1;32m~\\AppData\\Local\\Temp/ipykernel_7900/1400672965.py\u001b[0m in \u001b[0;36mcompute_grad_mod_ori\u001b[1;34m(I)\u001b[0m\n\u001b[0;32m      5\u001b[0m \u001b[1;33m\u001b[0m\u001b[0m\n\u001b[0;32m      6\u001b[0m     \u001b[0mGn\u001b[0m \u001b[1;33m=\u001b[0m \u001b[0mnp\u001b[0m\u001b[1;33m.\u001b[0m\u001b[0msqrt\u001b[0m\u001b[1;33m(\u001b[0m\u001b[0mIx\u001b[0m\u001b[1;33m**\u001b[0m\u001b[1;36m2\u001b[0m \u001b[1;33m+\u001b[0m \u001b[0mIy\u001b[0m\u001b[1;33m**\u001b[0m\u001b[1;36m2\u001b[0m\u001b[1;33m)\u001b[0m\u001b[1;33m\u001b[0m\u001b[1;33m\u001b[0m\u001b[0m\n\u001b[1;32m----> 7\u001b[1;33m     \u001b[0mGo\u001b[0m \u001b[1;33m=\u001b[0m \u001b[0mcompute_grad_ori\u001b[0m\u001b[1;33m(\u001b[0m\u001b[0mIx\u001b[0m\u001b[1;33m,\u001b[0m \u001b[0mIy\u001b[0m\u001b[1;33m,\u001b[0m \u001b[0mGn\u001b[0m\u001b[1;33m,\u001b[0m \u001b[1;36m8\u001b[0m\u001b[1;33m)\u001b[0m\u001b[1;31m#np.arctan(Iy/Ix)\u001b[0m\u001b[1;33m\u001b[0m\u001b[1;33m\u001b[0m\u001b[0m\n\u001b[0m\u001b[0;32m      8\u001b[0m     \u001b[1;32mreturn\u001b[0m \u001b[0mGn\u001b[0m\u001b[1;33m,\u001b[0m \u001b[0mGo\u001b[0m\u001b[1;33m\u001b[0m\u001b[1;33m\u001b[0m\u001b[0m\n",
      "\u001b[1;32m~\\AppData\\Local\\Temp/ipykernel_7900/30612560.py\u001b[0m in \u001b[0;36mcompute_grad_ori\u001b[1;34m(g_x, g_y, g_m, b)\u001b[0m\n\u001b[0;32m     13\u001b[0m                 \u001b[0mv\u001b[0m \u001b[1;33m=\u001b[0m \u001b[0mv\u001b[0m \u001b[1;33m/\u001b[0m \u001b[0mnp\u001b[0m\u001b[1;33m.\u001b[0m\u001b[0mlinalg\u001b[0m\u001b[1;33m.\u001b[0m\u001b[0mnorm\u001b[0m\u001b[1;33m(\u001b[0m\u001b[0mv\u001b[0m\u001b[1;33m,\u001b[0m \u001b[0mord\u001b[0m\u001b[1;33m=\u001b[0m\u001b[1;36m2\u001b[0m\u001b[1;33m)\u001b[0m\u001b[1;33m\u001b[0m\u001b[1;33m\u001b[0m\u001b[0m\n\u001b[0;32m     14\u001b[0m                 \u001b[0mprod\u001b[0m \u001b[1;33m=\u001b[0m \u001b[0mnp\u001b[0m\u001b[1;33m.\u001b[0m\u001b[0mdot\u001b[0m\u001b[1;33m(\u001b[0m\u001b[0mori\u001b[0m\u001b[1;33m,\u001b[0m\u001b[0mv\u001b[0m\u001b[1;33m)\u001b[0m\u001b[1;33m\u001b[0m\u001b[1;33m\u001b[0m\u001b[0m\n\u001b[1;32m---> 15\u001b[1;33m                 \u001b[0mg_o\u001b[0m\u001b[1;33m[\u001b[0m\u001b[0mi\u001b[0m\u001b[1;33m,\u001b[0m\u001b[0mj\u001b[0m\u001b[1;33m]\u001b[0m \u001b[1;33m=\u001b[0m \u001b[0mnp\u001b[0m\u001b[1;33m.\u001b[0m\u001b[0margmax\u001b[0m\u001b[1;33m(\u001b[0m\u001b[0mprod\u001b[0m\u001b[1;33m)\u001b[0m\u001b[1;33m\u001b[0m\u001b[1;33m\u001b[0m\u001b[0m\n\u001b[0m\u001b[0;32m     16\u001b[0m             \u001b[1;32melse\u001b[0m\u001b[1;33m:\u001b[0m\u001b[1;33m\u001b[0m\u001b[1;33m\u001b[0m\u001b[0m\n\u001b[0;32m     17\u001b[0m                 \u001b[0mg_o\u001b[0m\u001b[1;33m[\u001b[0m\u001b[0mi\u001b[0m\u001b[1;33m,\u001b[0m\u001b[0mj\u001b[0m\u001b[1;33m]\u001b[0m \u001b[1;33m=\u001b[0m \u001b[1;33m-\u001b[0m\u001b[1;36m1\u001b[0m\u001b[1;33m\u001b[0m\u001b[1;33m\u001b[0m\u001b[0m\n",
      "\u001b[1;32m<__array_function__ internals>\u001b[0m in \u001b[0;36margmax\u001b[1;34m(*args, **kwargs)\u001b[0m\n",
      "\u001b[1;32m~\\anaconda3\\lib\\site-packages\\numpy\\core\\fromnumeric.py\u001b[0m in \u001b[0;36margmax\u001b[1;34m(a, axis, out)\u001b[0m\n\u001b[0;32m   1193\u001b[0m \u001b[1;33m\u001b[0m\u001b[0m\n\u001b[0;32m   1194\u001b[0m     \"\"\"\n\u001b[1;32m-> 1195\u001b[1;33m     \u001b[1;32mreturn\u001b[0m \u001b[0m_wrapfunc\u001b[0m\u001b[1;33m(\u001b[0m\u001b[0ma\u001b[0m\u001b[1;33m,\u001b[0m \u001b[1;34m'argmax'\u001b[0m\u001b[1;33m,\u001b[0m \u001b[0maxis\u001b[0m\u001b[1;33m=\u001b[0m\u001b[0maxis\u001b[0m\u001b[1;33m,\u001b[0m \u001b[0mout\u001b[0m\u001b[1;33m=\u001b[0m\u001b[0mout\u001b[0m\u001b[1;33m)\u001b[0m\u001b[1;33m\u001b[0m\u001b[1;33m\u001b[0m\u001b[0m\n\u001b[0m\u001b[0;32m   1196\u001b[0m \u001b[1;33m\u001b[0m\u001b[0m\n\u001b[0;32m   1197\u001b[0m \u001b[1;33m\u001b[0m\u001b[0m\n",
      "\u001b[1;32m~\\anaconda3\\lib\\site-packages\\numpy\\core\\fromnumeric.py\u001b[0m in \u001b[0;36m_wrapfunc\u001b[1;34m(obj, method, *args, **kwds)\u001b[0m\n\u001b[0;32m     55\u001b[0m \u001b[1;33m\u001b[0m\u001b[0m\n\u001b[0;32m     56\u001b[0m     \u001b[1;32mtry\u001b[0m\u001b[1;33m:\u001b[0m\u001b[1;33m\u001b[0m\u001b[1;33m\u001b[0m\u001b[0m\n\u001b[1;32m---> 57\u001b[1;33m         \u001b[1;32mreturn\u001b[0m \u001b[0mbound\u001b[0m\u001b[1;33m(\u001b[0m\u001b[1;33m*\u001b[0m\u001b[0margs\u001b[0m\u001b[1;33m,\u001b[0m \u001b[1;33m**\u001b[0m\u001b[0mkwds\u001b[0m\u001b[1;33m)\u001b[0m\u001b[1;33m\u001b[0m\u001b[1;33m\u001b[0m\u001b[0m\n\u001b[0m\u001b[0;32m     58\u001b[0m     \u001b[1;32mexcept\u001b[0m \u001b[0mTypeError\u001b[0m\u001b[1;33m:\u001b[0m\u001b[1;33m\u001b[0m\u001b[1;33m\u001b[0m\u001b[0m\n\u001b[0;32m     59\u001b[0m         \u001b[1;31m# A TypeError occurs if the object does have such a method in its\u001b[0m\u001b[1;33m\u001b[0m\u001b[1;33m\u001b[0m\u001b[1;33m\u001b[0m\u001b[0m\n",
      "\u001b[1;31mKeyboardInterrupt\u001b[0m: "
     ]
    }
   ],
   "source": [
    "descriptors = ComputeSiftDataset(inames)"
   ]
  },
  {
   "cell_type": "code",
   "execution_count": null,
   "id": "5c3dafbe",
   "metadata": {},
   "outputs": [],
   "source": []
  }
 ],
 "metadata": {
  "kernelspec": {
   "display_name": "Python 3 (ipykernel)",
   "language": "python",
   "name": "python3"
  },
  "language_info": {
   "codemirror_mode": {
    "name": "ipython",
    "version": 3
   },
   "file_extension": ".py",
   "mimetype": "text/x-python",
   "name": "python",
   "nbconvert_exporter": "python",
   "pygments_lexer": "ipython3",
   "version": "3.8.12"
  }
 },
 "nbformat": 4,
 "nbformat_minor": 5
}
